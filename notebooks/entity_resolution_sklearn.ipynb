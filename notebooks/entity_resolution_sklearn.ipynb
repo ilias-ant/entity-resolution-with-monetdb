{
 "cells": [
  {
   "cell_type": "code",
   "execution_count": 1,
   "id": "unusual-henry",
   "metadata": {},
   "outputs": [],
   "source": [
    "import json\n",
    "import os\n",
    "import random\n",
    "import re\n",
    "from itertools import product\n",
    "\n",
    "import numpy as np\n",
    "import pandas as pd\n",
    "from more_itertools import distinct_combinations\n",
    "from plotnine import *\n",
    "from sklearn import feature_extraction, metrics\n",
    "\n",
    "\n",
    "ROOT_PATH = os.path.dirname(os.path.abspath(os.getcwd()))"
   ]
  },
  {
   "cell_type": "code",
   "execution_count": 2,
   "id": "aboriginal-former",
   "metadata": {},
   "outputs": [],
   "source": [
    "def inspect_df(df: pd.DataFrame, n : int=5) -> pd.DataFrame:\n",
    "    \"\"\"Helper method to easily inspect DataFrames.\"\"\"\n",
    "    \n",
    "    print(f'shape: {df.shape}')\n",
    "\n",
    "    return df.head(n)"
   ]
  },
  {
   "cell_type": "markdown",
   "id": "medium-height",
   "metadata": {},
   "source": [
    "# Table of Contents\n",
    "- [Exploratory Data Analysis](#Exploratory-Data-Analysis)\n",
    "- [A Baseline Model: random classifier](#A-Baseline-Model:-random-classifier)\n",
    "- [A Better Baseline Model: \\<page title\\> similarity](#A-Better-Baseline-Model:-<page-title>-similarity)\n",
    "- [Feature Extraction](#Feature-Extraction)"
   ]
  },
  {
   "cell_type": "markdown",
   "id": "common-electric",
   "metadata": {},
   "source": [
    "# Exploratory Data Analysis"
   ]
  },
  {
   "cell_type": "code",
   "execution_count": 3,
   "id": "induced-fluid",
   "metadata": {},
   "outputs": [],
   "source": [
    "def json_loader(dirpath: str) -> list:\n",
    "    \"\"\"Discover all .json files and gather their respective data, given a `dirpath`.\n",
    "    \"\"\"\n",
    "    data = []\n",
    "    for subdir in os.listdir(dirpath):\n",
    "        \n",
    "        temp = os.path.join(dirpath, subdir)\n",
    "\n",
    "        for datafile in os.listdir(temp):\n",
    "\n",
    "            with open(os.path.join(temp, datafile), 'r') as f:\n",
    "\n",
    "                spec = json.loads(f.read())\n",
    "            \n",
    "            # keep global identifier, format it as in the labelled dataset\n",
    "            spec['id'] = subdir + '//' + datafile.split('.json')[0]\n",
    "            \n",
    "            data.append(spec)\n",
    "\n",
    "    return data"
   ]
  },
  {
   "cell_type": "code",
   "execution_count": 4,
   "id": "revolutionary-episode",
   "metadata": {},
   "outputs": [],
   "source": [
    "data = json_loader(dirpath=os.path.join(ROOT_PATH, 'data/2013_camera_specs'))"
   ]
  },
  {
   "cell_type": "code",
   "execution_count": 5,
   "id": "confirmed-rental",
   "metadata": {},
   "outputs": [],
   "source": [
    "specs = pd.DataFrame(data)"
   ]
  },
  {
   "cell_type": "code",
   "execution_count": 6,
   "id": "present-gazette",
   "metadata": {},
   "outputs": [
    {
     "name": "stdout",
     "output_type": "stream",
     "text": [
      "shape: (29787, 4662)\n"
     ]
    },
    {
     "data": {
      "text/html": [
       "<div>\n",
       "<style scoped>\n",
       "    .dataframe tbody tr th:only-of-type {\n",
       "        vertical-align: middle;\n",
       "    }\n",
       "\n",
       "    .dataframe tbody tr th {\n",
       "        vertical-align: top;\n",
       "    }\n",
       "\n",
       "    .dataframe thead th {\n",
       "        text-align: right;\n",
       "    }\n",
       "</style>\n",
       "<table border=\"1\" class=\"dataframe\">\n",
       "  <thead>\n",
       "    <tr style=\"text-align: right;\">\n",
       "      <th></th>\n",
       "      <th>&lt;page title&gt;</th>\n",
       "      <th>camera type</th>\n",
       "      <th>depth</th>\n",
       "      <th>digital zoom</th>\n",
       "      <th>effective megapixels</th>\n",
       "      <th>flash</th>\n",
       "      <th>focal length</th>\n",
       "      <th>height</th>\n",
       "      <th>image sensor</th>\n",
       "      <th>image stabilization</th>\n",
       "      <th>...</th>\n",
       "      <th>motion image progressive  pal area</th>\n",
       "      <th>focus mode  manual focus</th>\n",
       "      <th>my camera</th>\n",
       "      <th>sound files</th>\n",
       "      <th>af system  points</th>\n",
       "      <th>ultrasonic motor usm</th>\n",
       "      <th>remote controller  switch</th>\n",
       "      <th>image erase</th>\n",
       "      <th>image erase protection</th>\n",
       "      <th>gps log</th>\n",
       "    </tr>\n",
       "  </thead>\n",
       "  <tbody>\n",
       "    <tr>\n",
       "      <th>0</th>\n",
       "      <td>Canon PowerShot SX200 IS 12.1 Megapixel Compac...</td>\n",
       "      <td>Compact Camera</td>\n",
       "      <td>1.5 in</td>\n",
       "      <td>4x</td>\n",
       "      <td>12.1 Megapixel</td>\n",
       "      <td>Auto Flash|Flash OFF|Flash ON|Red-eye Reduction</td>\n",
       "      <td>5 mm to 60 mm</td>\n",
       "      <td>2.4 in</td>\n",
       "      <td>CCD</td>\n",
       "      <td>Optical</td>\n",
       "      <td>...</td>\n",
       "      <td>NaN</td>\n",
       "      <td>NaN</td>\n",
       "      <td>NaN</td>\n",
       "      <td>NaN</td>\n",
       "      <td>NaN</td>\n",
       "      <td>NaN</td>\n",
       "      <td>NaN</td>\n",
       "      <td>NaN</td>\n",
       "      <td>NaN</td>\n",
       "      <td>NaN</td>\n",
       "    </tr>\n",
       "    <tr>\n",
       "      <th>1</th>\n",
       "      <td>Sony DSC-RX100/B Black Digital Camera (20.2 MP...</td>\n",
       "      <td>Point &amp; Shoot Digital Camera</td>\n",
       "      <td>1.44 in</td>\n",
       "      <td>14 X</td>\n",
       "      <td>20200000 pixels</td>\n",
       "      <td>Built-in Flash|Accessory Shoe</td>\n",
       "      <td>NaN</td>\n",
       "      <td>2.38 in</td>\n",
       "      <td>CMOS</td>\n",
       "      <td>Optical</td>\n",
       "      <td>...</td>\n",
       "      <td>NaN</td>\n",
       "      <td>NaN</td>\n",
       "      <td>NaN</td>\n",
       "      <td>NaN</td>\n",
       "      <td>NaN</td>\n",
       "      <td>NaN</td>\n",
       "      <td>NaN</td>\n",
       "      <td>NaN</td>\n",
       "      <td>NaN</td>\n",
       "      <td>NaN</td>\n",
       "    </tr>\n",
       "    <tr>\n",
       "      <th>2</th>\n",
       "      <td>Canon EOS-1D X Black SLR Digital Camera - Body...</td>\n",
       "      <td>Digital SLR Camera</td>\n",
       "      <td>3.3 in</td>\n",
       "      <td>NaN</td>\n",
       "      <td>18.1 Megapixel</td>\n",
       "      <td>Auto Flash|Flash ON|Flash OFF|X-sync|Rear Curt...</td>\n",
       "      <td>NaN</td>\n",
       "      <td>6.4 in</td>\n",
       "      <td>CMOS</td>\n",
       "      <td>No</td>\n",
       "      <td>...</td>\n",
       "      <td>NaN</td>\n",
       "      <td>NaN</td>\n",
       "      <td>NaN</td>\n",
       "      <td>NaN</td>\n",
       "      <td>NaN</td>\n",
       "      <td>NaN</td>\n",
       "      <td>NaN</td>\n",
       "      <td>NaN</td>\n",
       "      <td>NaN</td>\n",
       "      <td>NaN</td>\n",
       "    </tr>\n",
       "    <tr>\n",
       "      <th>3</th>\n",
       "      <td>Olympus Pen E-P5 White Digital Camera (16.1 MP...</td>\n",
       "      <td>Point &amp; Shoot Digital Camera</td>\n",
       "      <td>1.46 in</td>\n",
       "      <td>NaN</td>\n",
       "      <td>16100000 pixels</td>\n",
       "      <td>Built-in Flash|Accessory Shoe</td>\n",
       "      <td>NaN</td>\n",
       "      <td>2.71 in</td>\n",
       "      <td>CMOS</td>\n",
       "      <td>Sensor Shift</td>\n",
       "      <td>...</td>\n",
       "      <td>NaN</td>\n",
       "      <td>NaN</td>\n",
       "      <td>NaN</td>\n",
       "      <td>NaN</td>\n",
       "      <td>NaN</td>\n",
       "      <td>NaN</td>\n",
       "      <td>NaN</td>\n",
       "      <td>NaN</td>\n",
       "      <td>NaN</td>\n",
       "      <td>NaN</td>\n",
       "    </tr>\n",
       "    <tr>\n",
       "      <th>4</th>\n",
       "      <td>Canon PowerShot G1 X Mark II Black Digital Cam...</td>\n",
       "      <td>Point &amp; Shoot Digital Camera</td>\n",
       "      <td>2.61 in</td>\n",
       "      <td>4 X</td>\n",
       "      <td>12800000 pixels</td>\n",
       "      <td>Accessory Shoe|Built-in Flash</td>\n",
       "      <td>12.5 mm to 62.5 mm</td>\n",
       "      <td>2.91 in</td>\n",
       "      <td>CMOS</td>\n",
       "      <td>Optical</td>\n",
       "      <td>...</td>\n",
       "      <td>NaN</td>\n",
       "      <td>NaN</td>\n",
       "      <td>NaN</td>\n",
       "      <td>NaN</td>\n",
       "      <td>NaN</td>\n",
       "      <td>NaN</td>\n",
       "      <td>NaN</td>\n",
       "      <td>NaN</td>\n",
       "      <td>NaN</td>\n",
       "      <td>NaN</td>\n",
       "    </tr>\n",
       "  </tbody>\n",
       "</table>\n",
       "<p>5 rows × 4662 columns</p>\n",
       "</div>"
      ],
      "text/plain": [
       "                                        <page title>  \\\n",
       "0  Canon PowerShot SX200 IS 12.1 Megapixel Compac...   \n",
       "1  Sony DSC-RX100/B Black Digital Camera (20.2 MP...   \n",
       "2  Canon EOS-1D X Black SLR Digital Camera - Body...   \n",
       "3  Olympus Pen E-P5 White Digital Camera (16.1 MP...   \n",
       "4  Canon PowerShot G1 X Mark II Black Digital Cam...   \n",
       "\n",
       "                    camera type    depth digital zoom effective megapixels  \\\n",
       "0                Compact Camera   1.5 in           4x       12.1 Megapixel   \n",
       "1  Point & Shoot Digital Camera  1.44 in         14 X      20200000 pixels   \n",
       "2            Digital SLR Camera   3.3 in          NaN       18.1 Megapixel   \n",
       "3  Point & Shoot Digital Camera  1.46 in          NaN      16100000 pixels   \n",
       "4  Point & Shoot Digital Camera  2.61 in          4 X      12800000 pixels   \n",
       "\n",
       "                                               flash        focal length  \\\n",
       "0    Auto Flash|Flash OFF|Flash ON|Red-eye Reduction       5 mm to 60 mm   \n",
       "1                      Built-in Flash|Accessory Shoe                 NaN   \n",
       "2  Auto Flash|Flash ON|Flash OFF|X-sync|Rear Curt...                 NaN   \n",
       "3                      Built-in Flash|Accessory Shoe                 NaN   \n",
       "4                      Accessory Shoe|Built-in Flash  12.5 mm to 62.5 mm   \n",
       "\n",
       "    height image sensor image stabilization  ...  \\\n",
       "0   2.4 in          CCD             Optical  ...   \n",
       "1  2.38 in         CMOS             Optical  ...   \n",
       "2   6.4 in         CMOS                  No  ...   \n",
       "3  2.71 in         CMOS        Sensor Shift  ...   \n",
       "4  2.91 in         CMOS             Optical  ...   \n",
       "\n",
       "  motion image progressive  pal area focus mode  manual focus my camera  \\\n",
       "0                                NaN                      NaN       NaN   \n",
       "1                                NaN                      NaN       NaN   \n",
       "2                                NaN                      NaN       NaN   \n",
       "3                                NaN                      NaN       NaN   \n",
       "4                                NaN                      NaN       NaN   \n",
       "\n",
       "  sound files af system  points ultrasonic motor usm  \\\n",
       "0         NaN               NaN                  NaN   \n",
       "1         NaN               NaN                  NaN   \n",
       "2         NaN               NaN                  NaN   \n",
       "3         NaN               NaN                  NaN   \n",
       "4         NaN               NaN                  NaN   \n",
       "\n",
       "  remote controller  switch image erase image erase protection gps log  \n",
       "0                       NaN         NaN                    NaN     NaN  \n",
       "1                       NaN         NaN                    NaN     NaN  \n",
       "2                       NaN         NaN                    NaN     NaN  \n",
       "3                       NaN         NaN                    NaN     NaN  \n",
       "4                       NaN         NaN                    NaN     NaN  \n",
       "\n",
       "[5 rows x 4662 columns]"
      ]
     },
     "execution_count": 6,
     "metadata": {},
     "output_type": "execute_result"
    }
   ],
   "source": [
    "inspect_df(specs)"
   ]
  },
  {
   "cell_type": "code",
   "execution_count": 7,
   "id": "fitted-antigua",
   "metadata": {},
   "outputs": [],
   "source": [
    "specs.set_index('id', inplace=True)"
   ]
  },
  {
   "cell_type": "code",
   "execution_count": 8,
   "id": "essential-mitchell",
   "metadata": {},
   "outputs": [],
   "source": [
    "labels = pd.read_csv(os.path.join(ROOT_PATH, 'data/sigmod_medium_labelled_dataset.csv'))"
   ]
  },
  {
   "cell_type": "code",
   "execution_count": 9,
   "id": "latter-recipe",
   "metadata": {},
   "outputs": [
    {
     "name": "stdout",
     "output_type": "stream",
     "text": [
      "shape: (46665, 3)\n"
     ]
    },
    {
     "data": {
      "text/html": [
       "<div>\n",
       "<style scoped>\n",
       "    .dataframe tbody tr th:only-of-type {\n",
       "        vertical-align: middle;\n",
       "    }\n",
       "\n",
       "    .dataframe tbody tr th {\n",
       "        vertical-align: top;\n",
       "    }\n",
       "\n",
       "    .dataframe thead th {\n",
       "        text-align: right;\n",
       "    }\n",
       "</style>\n",
       "<table border=\"1\" class=\"dataframe\">\n",
       "  <thead>\n",
       "    <tr style=\"text-align: right;\">\n",
       "      <th></th>\n",
       "      <th>left_spec_id</th>\n",
       "      <th>right_spec_id</th>\n",
       "      <th>label</th>\n",
       "    </tr>\n",
       "  </thead>\n",
       "  <tbody>\n",
       "    <tr>\n",
       "      <th>0</th>\n",
       "      <td>www.garricks.com.au//31</td>\n",
       "      <td>www.ebay.com//53278</td>\n",
       "      <td>1</td>\n",
       "    </tr>\n",
       "    <tr>\n",
       "      <th>1</th>\n",
       "      <td>www.ebay.com//58782</td>\n",
       "      <td>www.ebay.com//24817</td>\n",
       "      <td>0</td>\n",
       "    </tr>\n",
       "    <tr>\n",
       "      <th>2</th>\n",
       "      <td>www.ebay.com//58782</td>\n",
       "      <td>www.ebay.com//43019</td>\n",
       "      <td>0</td>\n",
       "    </tr>\n",
       "    <tr>\n",
       "      <th>3</th>\n",
       "      <td>www.ebay.com//42055</td>\n",
       "      <td>www.ebay.com//54403</td>\n",
       "      <td>0</td>\n",
       "    </tr>\n",
       "    <tr>\n",
       "      <th>4</th>\n",
       "      <td>www.ebay.com//44280</td>\n",
       "      <td>buy.net//6145</td>\n",
       "      <td>0</td>\n",
       "    </tr>\n",
       "  </tbody>\n",
       "</table>\n",
       "</div>"
      ],
      "text/plain": [
       "              left_spec_id        right_spec_id  label\n",
       "0  www.garricks.com.au//31  www.ebay.com//53278      1\n",
       "1      www.ebay.com//58782  www.ebay.com//24817      0\n",
       "2      www.ebay.com//58782  www.ebay.com//43019      0\n",
       "3      www.ebay.com//42055  www.ebay.com//54403      0\n",
       "4      www.ebay.com//44280        buy.net//6145      0"
      ]
     },
     "execution_count": 9,
     "metadata": {},
     "output_type": "execute_result"
    }
   ],
   "source": [
    "inspect_df(labels)"
   ]
  },
  {
   "cell_type": "code",
   "execution_count": 10,
   "id": "removed-kitchen",
   "metadata": {},
   "outputs": [],
   "source": [
    "matched_products = labels['label'] == 1"
   ]
  },
  {
   "cell_type": "code",
   "execution_count": 11,
   "id": "combined-insulation",
   "metadata": {},
   "outputs": [
    {
     "data": {
      "text/plain": [
       "False    43083\n",
       "True      3582\n",
       "Name: label, dtype: int64"
      ]
     },
     "execution_count": 11,
     "metadata": {},
     "output_type": "execute_result"
    }
   ],
   "source": [
    "matched_products.value_counts()"
   ]
  },
  {
   "cell_type": "code",
   "execution_count": 12,
   "id": "operating-chambers",
   "metadata": {},
   "outputs": [
    {
     "data": {
      "image/png": "[encoded data removed]",
      "text/plain": [
       "<Figure size 640x480 with 1 Axes>"
      ]
     },
     "metadata": {},
     "output_type": "display_data"
    },
    {
     "data": {
      "text/plain": [
       "<ggplot: (8767409042285)>"
      ]
     },
     "execution_count": 12,
     "metadata": {},
     "output_type": "execute_result"
    }
   ],
   "source": [
    "ggplot() + \\\n",
    "    geom_bar(mapping=aes(x=matched_products), colour='white') + \\\n",
    "    labs(title='same products ?', x='') + \\\n",
    "    coord_flip()"
   ]
  },
  {
   "cell_type": "code",
   "execution_count": 13,
   "id": "traditional-antigua",
   "metadata": {},
   "outputs": [
    {
     "name": "stdout",
     "output_type": "stream",
     "text": [
      "shape: (4661, 4)\n"
     ]
    },
    {
     "data": {
      "text/html": [
       "<div>\n",
       "<style scoped>\n",
       "    .dataframe tbody tr th:only-of-type {\n",
       "        vertical-align: middle;\n",
       "    }\n",
       "\n",
       "    .dataframe tbody tr th {\n",
       "        vertical-align: top;\n",
       "    }\n",
       "\n",
       "    .dataframe thead th {\n",
       "        text-align: right;\n",
       "    }\n",
       "</style>\n",
       "<table border=\"1\" class=\"dataframe\">\n",
       "  <thead>\n",
       "    <tr style=\"text-align: right;\">\n",
       "      <th></th>\n",
       "      <th>count</th>\n",
       "      <th>unique</th>\n",
       "      <th>top</th>\n",
       "      <th>freq</th>\n",
       "    </tr>\n",
       "  </thead>\n",
       "  <tbody>\n",
       "    <tr>\n",
       "      <th>&lt;page title&gt;</th>\n",
       "      <td>29787</td>\n",
       "      <td>26748</td>\n",
       "      <td>Canon EOS Rebel T3i 600D 18 0 MP Digital SLR C...</td>\n",
       "      <td>26</td>\n",
       "    </tr>\n",
       "    <tr>\n",
       "      <th>camera type</th>\n",
       "      <td>2080</td>\n",
       "      <td>92</td>\n",
       "      <td>Point-and-Shoot</td>\n",
       "      <td>252</td>\n",
       "    </tr>\n",
       "    <tr>\n",
       "      <th>depth</th>\n",
       "      <td>1176</td>\n",
       "      <td>353</td>\n",
       "      <td>20 mm</td>\n",
       "      <td>28</td>\n",
       "    </tr>\n",
       "    <tr>\n",
       "      <th>digital zoom</th>\n",
       "      <td>3216</td>\n",
       "      <td>286</td>\n",
       "      <td>4x</td>\n",
       "      <td>1004</td>\n",
       "    </tr>\n",
       "    <tr>\n",
       "      <th>effective megapixels</th>\n",
       "      <td>344</td>\n",
       "      <td>91</td>\n",
       "      <td>16 Megapixel</td>\n",
       "      <td>40</td>\n",
       "    </tr>\n",
       "  </tbody>\n",
       "</table>\n",
       "</div>"
      ],
      "text/plain": [
       "                      count unique  \\\n",
       "<page title>          29787  26748   \n",
       "camera type            2080     92   \n",
       "depth                  1176    353   \n",
       "digital zoom           3216    286   \n",
       "effective megapixels    344     91   \n",
       "\n",
       "                                                                    top  freq  \n",
       "<page title>          Canon EOS Rebel T3i 600D 18 0 MP Digital SLR C...    26  \n",
       "camera type                                             Point-and-Shoot   252  \n",
       "depth                                                             20 mm    28  \n",
       "digital zoom                                                         4x  1004  \n",
       "effective megapixels                                       16 Megapixel    40  "
      ]
     },
     "execution_count": 13,
     "metadata": {},
     "output_type": "execute_result"
    }
   ],
   "source": [
    "specs_info = specs.describe()\n",
    "specs_info = specs_info.transpose()\n",
    "\n",
    "inspect_df(specs_info)"
   ]
  },
  {
   "cell_type": "code",
   "execution_count": 14,
   "id": "worst-sharing",
   "metadata": {},
   "outputs": [],
   "source": [
    "specs_info['support'] = specs_info['count'] / len(specs.index)\n",
    "specs_info = specs_info.sort_values(by='support', ascending=False)"
   ]
  },
  {
   "cell_type": "code",
   "execution_count": 15,
   "id": "silver-george",
   "metadata": {},
   "outputs": [
    {
     "data": {
      "text/html": [
       "<div>\n",
       "<style scoped>\n",
       "    .dataframe tbody tr th:only-of-type {\n",
       "        vertical-align: middle;\n",
       "    }\n",
       "\n",
       "    .dataframe tbody tr th {\n",
       "        vertical-align: top;\n",
       "    }\n",
       "\n",
       "    .dataframe thead th {\n",
       "        text-align: right;\n",
       "    }\n",
       "</style>\n",
       "<table border=\"1\" class=\"dataframe\">\n",
       "  <thead>\n",
       "    <tr style=\"text-align: right;\">\n",
       "      <th></th>\n",
       "      <th>count</th>\n",
       "      <th>unique</th>\n",
       "      <th>top</th>\n",
       "      <th>freq</th>\n",
       "      <th>support</th>\n",
       "    </tr>\n",
       "  </thead>\n",
       "  <tbody>\n",
       "    <tr>\n",
       "      <th>&lt;page title&gt;</th>\n",
       "      <td>29787</td>\n",
       "      <td>26748</td>\n",
       "      <td>Canon EOS Rebel T3i 600D 18 0 MP Digital SLR C...</td>\n",
       "      <td>26</td>\n",
       "      <td>1.0</td>\n",
       "    </tr>\n",
       "    <tr>\n",
       "      <th>brand</th>\n",
       "      <td>15739</td>\n",
       "      <td>348</td>\n",
       "      <td>Canon</td>\n",
       "      <td>3858</td>\n",
       "      <td>0.528385</td>\n",
       "    </tr>\n",
       "    <tr>\n",
       "      <th>model</th>\n",
       "      <td>14748</td>\n",
       "      <td>3993</td>\n",
       "      <td>7D</td>\n",
       "      <td>142</td>\n",
       "      <td>0.495115</td>\n",
       "    </tr>\n",
       "    <tr>\n",
       "      <th>megapixels</th>\n",
       "      <td>13827</td>\n",
       "      <td>477</td>\n",
       "      <td>16.0 MP</td>\n",
       "      <td>868</td>\n",
       "      <td>0.464196</td>\n",
       "    </tr>\n",
       "    <tr>\n",
       "      <th>type</th>\n",
       "      <td>13660</td>\n",
       "      <td>437</td>\n",
       "      <td>Point &amp; Shoot</td>\n",
       "      <td>6638</td>\n",
       "      <td>0.458589</td>\n",
       "    </tr>\n",
       "    <tr>\n",
       "      <th>screen size</th>\n",
       "      <td>12350</td>\n",
       "      <td>365</td>\n",
       "      <td>3\"</td>\n",
       "      <td>5027</td>\n",
       "      <td>0.41461</td>\n",
       "    </tr>\n",
       "    <tr>\n",
       "      <th>optical zoom</th>\n",
       "      <td>11656</td>\n",
       "      <td>578</td>\n",
       "      <td>3x</td>\n",
       "      <td>2857</td>\n",
       "      <td>0.391312</td>\n",
       "    </tr>\n",
       "    <tr>\n",
       "      <th>mpn</th>\n",
       "      <td>10536</td>\n",
       "      <td>3452</td>\n",
       "      <td>5169B003</td>\n",
       "      <td>93</td>\n",
       "      <td>0.353711</td>\n",
       "    </tr>\n",
       "    <tr>\n",
       "      <th>condition</th>\n",
       "      <td>9951</td>\n",
       "      <td>13</td>\n",
       "      <td>Used: An item that has been used previously. T...</td>\n",
       "      <td>5730</td>\n",
       "      <td>0.334072</td>\n",
       "    </tr>\n",
       "    <tr>\n",
       "      <th>upc</th>\n",
       "      <td>7800</td>\n",
       "      <td>3723</td>\n",
       "      <td>013803117493</td>\n",
       "      <td>68</td>\n",
       "      <td>0.261859</td>\n",
       "    </tr>\n",
       "  </tbody>\n",
       "</table>\n",
       "</div>"
      ],
      "text/plain": [
       "              count unique                                                top  \\\n",
       "<page title>  29787  26748  Canon EOS Rebel T3i 600D 18 0 MP Digital SLR C...   \n",
       "brand         15739    348                                              Canon   \n",
       "model         14748   3993                                                 7D   \n",
       "megapixels    13827    477                                            16.0 MP   \n",
       "type          13660    437                                      Point & Shoot   \n",
       "screen size   12350    365                                                 3\"   \n",
       "optical zoom  11656    578                                                 3x   \n",
       "mpn           10536   3452                                           5169B003   \n",
       "condition      9951     13  Used: An item that has been used previously. T...   \n",
       "upc            7800   3723                                       013803117493   \n",
       "\n",
       "              freq   support  \n",
       "<page title>    26       1.0  \n",
       "brand         3858  0.528385  \n",
       "model          142  0.495115  \n",
       "megapixels     868  0.464196  \n",
       "type          6638  0.458589  \n",
       "screen size   5027   0.41461  \n",
       "optical zoom  2857  0.391312  \n",
       "mpn             93  0.353711  \n",
       "condition     5730  0.334072  \n",
       "upc             68  0.261859  "
      ]
     },
     "execution_count": 15,
     "metadata": {},
     "output_type": "execute_result"
    }
   ],
   "source": [
    "specs_info.head(10)"
   ]
  },
  {
   "cell_type": "code",
   "execution_count": 16,
   "id": "comfortable-natural",
   "metadata": {},
   "outputs": [],
   "source": [
    "top10 = list(specs_info.head(10).index)"
   ]
  },
  {
   "cell_type": "markdown",
   "id": "mental-enemy",
   "metadata": {},
   "source": [
    "These are the 10 camera specs (attributes) with the highest support."
   ]
  },
  {
   "cell_type": "code",
   "execution_count": 17,
   "id": "hindu-penguin",
   "metadata": {},
   "outputs": [
    {
     "data": {
      "text/html": [
       "<div>\n",
       "<style scoped>\n",
       "    .dataframe tbody tr th:only-of-type {\n",
       "        vertical-align: middle;\n",
       "    }\n",
       "\n",
       "    .dataframe tbody tr th {\n",
       "        vertical-align: top;\n",
       "    }\n",
       "\n",
       "    .dataframe thead th {\n",
       "        text-align: right;\n",
       "    }\n",
       "</style>\n",
       "<table border=\"1\" class=\"dataframe\">\n",
       "  <thead>\n",
       "    <tr style=\"text-align: right;\">\n",
       "      <th></th>\n",
       "      <th>&lt;page title&gt;</th>\n",
       "      <th>brand</th>\n",
       "      <th>model</th>\n",
       "      <th>megapixels</th>\n",
       "      <th>type</th>\n",
       "      <th>screen size</th>\n",
       "      <th>optical zoom</th>\n",
       "      <th>mpn</th>\n",
       "      <th>condition</th>\n",
       "      <th>upc</th>\n",
       "    </tr>\n",
       "    <tr>\n",
       "      <th>id</th>\n",
       "      <th></th>\n",
       "      <th></th>\n",
       "      <th></th>\n",
       "      <th></th>\n",
       "      <th></th>\n",
       "      <th></th>\n",
       "      <th></th>\n",
       "      <th></th>\n",
       "      <th></th>\n",
       "      <th></th>\n",
       "    </tr>\n",
       "  </thead>\n",
       "  <tbody>\n",
       "    <tr>\n",
       "      <th>buy.net//6015</th>\n",
       "      <td>Canon PowerShot SX200 IS 12.1 Megapixel Compac...</td>\n",
       "      <td>NaN</td>\n",
       "      <td>NaN</td>\n",
       "      <td>NaN</td>\n",
       "      <td>NaN</td>\n",
       "      <td>NaN</td>\n",
       "      <td>12 X</td>\n",
       "      <td>NaN</td>\n",
       "      <td>NaN</td>\n",
       "      <td>NaN</td>\n",
       "    </tr>\n",
       "    <tr>\n",
       "      <th>buy.net//6383</th>\n",
       "      <td>Sony DSC-RX100/B Black Digital Camera (20.2 MP...</td>\n",
       "      <td>NaN</td>\n",
       "      <td>NaN</td>\n",
       "      <td>NaN</td>\n",
       "      <td>NaN</td>\n",
       "      <td>NaN</td>\n",
       "      <td>3.6 X</td>\n",
       "      <td>NaN</td>\n",
       "      <td>NaN</td>\n",
       "      <td>NaN</td>\n",
       "    </tr>\n",
       "    <tr>\n",
       "      <th>buy.net//6698</th>\n",
       "      <td>Canon EOS-1D X Black SLR Digital Camera - Body...</td>\n",
       "      <td>NaN</td>\n",
       "      <td>NaN</td>\n",
       "      <td>NaN</td>\n",
       "      <td>NaN</td>\n",
       "      <td>NaN</td>\n",
       "      <td>NaN</td>\n",
       "      <td>NaN</td>\n",
       "      <td>NaN</td>\n",
       "      <td>NaN</td>\n",
       "    </tr>\n",
       "    <tr>\n",
       "      <th>buy.net//6123</th>\n",
       "      <td>Olympus Pen E-P5 White Digital Camera (16.1 MP...</td>\n",
       "      <td>NaN</td>\n",
       "      <td>NaN</td>\n",
       "      <td>NaN</td>\n",
       "      <td>NaN</td>\n",
       "      <td>NaN</td>\n",
       "      <td>NaN</td>\n",
       "      <td>NaN</td>\n",
       "      <td>NaN</td>\n",
       "      <td>NaN</td>\n",
       "    </tr>\n",
       "    <tr>\n",
       "      <th>buy.net//6212</th>\n",
       "      <td>Canon PowerShot G1 X Mark II Black Digital Cam...</td>\n",
       "      <td>NaN</td>\n",
       "      <td>NaN</td>\n",
       "      <td>NaN</td>\n",
       "      <td>NaN</td>\n",
       "      <td>NaN</td>\n",
       "      <td>5 X</td>\n",
       "      <td>NaN</td>\n",
       "      <td>NaN</td>\n",
       "      <td>NaN</td>\n",
       "    </tr>\n",
       "    <tr>\n",
       "      <th>...</th>\n",
       "      <td>...</td>\n",
       "      <td>...</td>\n",
       "      <td>...</td>\n",
       "      <td>...</td>\n",
       "      <td>...</td>\n",
       "      <td>...</td>\n",
       "      <td>...</td>\n",
       "      <td>...</td>\n",
       "      <td>...</td>\n",
       "      <td>...</td>\n",
       "    </tr>\n",
       "    <tr>\n",
       "      <th>www.canon-europe.com//78</th>\n",
       "      <td>Canon PowerShot D30 - PowerShot and IXUS digit...</td>\n",
       "      <td>NaN</td>\n",
       "      <td>NaN</td>\n",
       "      <td>NaN</td>\n",
       "      <td>TTL</td>\n",
       "      <td>NaN</td>\n",
       "      <td>NaN</td>\n",
       "      <td>NaN</td>\n",
       "      <td>NaN</td>\n",
       "      <td>NaN</td>\n",
       "    </tr>\n",
       "    <tr>\n",
       "      <th>www.canon-europe.com//63</th>\n",
       "      <td>Canon PowerShot A550 - PowerShot and IXUS digi...</td>\n",
       "      <td>NaN</td>\n",
       "      <td>NaN</td>\n",
       "      <td>NaN</td>\n",
       "      <td>NaN</td>\n",
       "      <td>NaN</td>\n",
       "      <td>NaN</td>\n",
       "      <td>NaN</td>\n",
       "      <td>NaN</td>\n",
       "      <td>NaN</td>\n",
       "    </tr>\n",
       "    <tr>\n",
       "      <th>www.canon-europe.com//156</th>\n",
       "      <td>Canon Digital IXUS 900 Ti - PowerShot and IXUS...</td>\n",
       "      <td>NaN</td>\n",
       "      <td>NaN</td>\n",
       "      <td>NaN</td>\n",
       "      <td>NaN</td>\n",
       "      <td>NaN</td>\n",
       "      <td>NaN</td>\n",
       "      <td>NaN</td>\n",
       "      <td>NaN</td>\n",
       "      <td>NaN</td>\n",
       "    </tr>\n",
       "    <tr>\n",
       "      <th>www.canon-europe.com//133</th>\n",
       "      <td>Canon IXUS 105 - PowerShot and IXUS digital co...</td>\n",
       "      <td>NaN</td>\n",
       "      <td>NaN</td>\n",
       "      <td>NaN</td>\n",
       "      <td>TTL</td>\n",
       "      <td>NaN</td>\n",
       "      <td>NaN</td>\n",
       "      <td>NaN</td>\n",
       "      <td>NaN</td>\n",
       "      <td>NaN</td>\n",
       "    </tr>\n",
       "    <tr>\n",
       "      <th>www.canon-europe.com//43</th>\n",
       "      <td>Canon Digital IXUS 750 - PowerShot and IXUS di...</td>\n",
       "      <td>NaN</td>\n",
       "      <td>NaN</td>\n",
       "      <td>NaN</td>\n",
       "      <td>NaN</td>\n",
       "      <td>NaN</td>\n",
       "      <td>NaN</td>\n",
       "      <td>NaN</td>\n",
       "      <td>NaN</td>\n",
       "      <td>NaN</td>\n",
       "    </tr>\n",
       "  </tbody>\n",
       "</table>\n",
       "<p>29787 rows × 10 columns</p>\n",
       "</div>"
      ],
      "text/plain": [
       "                                                                <page title>  \\\n",
       "id                                                                             \n",
       "buy.net//6015              Canon PowerShot SX200 IS 12.1 Megapixel Compac...   \n",
       "buy.net//6383              Sony DSC-RX100/B Black Digital Camera (20.2 MP...   \n",
       "buy.net//6698              Canon EOS-1D X Black SLR Digital Camera - Body...   \n",
       "buy.net//6123              Olympus Pen E-P5 White Digital Camera (16.1 MP...   \n",
       "buy.net//6212              Canon PowerShot G1 X Mark II Black Digital Cam...   \n",
       "...                                                                      ...   \n",
       "www.canon-europe.com//78   Canon PowerShot D30 - PowerShot and IXUS digit...   \n",
       "www.canon-europe.com//63   Canon PowerShot A550 - PowerShot and IXUS digi...   \n",
       "www.canon-europe.com//156  Canon Digital IXUS 900 Ti - PowerShot and IXUS...   \n",
       "www.canon-europe.com//133  Canon IXUS 105 - PowerShot and IXUS digital co...   \n",
       "www.canon-europe.com//43   Canon Digital IXUS 750 - PowerShot and IXUS di...   \n",
       "\n",
       "                          brand model megapixels type screen size  \\\n",
       "id                                                                  \n",
       "buy.net//6015               NaN   NaN        NaN  NaN         NaN   \n",
       "buy.net//6383               NaN   NaN        NaN  NaN         NaN   \n",
       "buy.net//6698               NaN   NaN        NaN  NaN         NaN   \n",
       "buy.net//6123               NaN   NaN        NaN  NaN         NaN   \n",
       "buy.net//6212               NaN   NaN        NaN  NaN         NaN   \n",
       "...                         ...   ...        ...  ...         ...   \n",
       "www.canon-europe.com//78    NaN   NaN        NaN  TTL         NaN   \n",
       "www.canon-europe.com//63    NaN   NaN        NaN  NaN         NaN   \n",
       "www.canon-europe.com//156   NaN   NaN        NaN  NaN         NaN   \n",
       "www.canon-europe.com//133   NaN   NaN        NaN  TTL         NaN   \n",
       "www.canon-europe.com//43    NaN   NaN        NaN  NaN         NaN   \n",
       "\n",
       "                          optical zoom  mpn condition  upc  \n",
       "id                                                          \n",
       "buy.net//6015                     12 X  NaN       NaN  NaN  \n",
       "buy.net//6383                    3.6 X  NaN       NaN  NaN  \n",
       "buy.net//6698                      NaN  NaN       NaN  NaN  \n",
       "buy.net//6123                      NaN  NaN       NaN  NaN  \n",
       "buy.net//6212                      5 X  NaN       NaN  NaN  \n",
       "...                                ...  ...       ...  ...  \n",
       "www.canon-europe.com//78           NaN  NaN       NaN  NaN  \n",
       "www.canon-europe.com//63           NaN  NaN       NaN  NaN  \n",
       "www.canon-europe.com//156          NaN  NaN       NaN  NaN  \n",
       "www.canon-europe.com//133          NaN  NaN       NaN  NaN  \n",
       "www.canon-europe.com//43           NaN  NaN       NaN  NaN  \n",
       "\n",
       "[29787 rows x 10 columns]"
      ]
     },
     "execution_count": 17,
     "metadata": {},
     "output_type": "execute_result"
    }
   ],
   "source": [
    "specs[top10]"
   ]
  },
  {
   "cell_type": "markdown",
   "id": "union-atlas",
   "metadata": {},
   "source": [
    "# A Baseline Model: random classifier"
   ]
  },
  {
   "cell_type": "code",
   "execution_count": 18,
   "id": "irish-boost",
   "metadata": {},
   "outputs": [
    {
     "name": "stdout",
     "output_type": "stream",
     "text": [
      "shape: (46665, 3)\n"
     ]
    },
    {
     "data": {
      "text/html": [
       "<div>\n",
       "<style scoped>\n",
       "    .dataframe tbody tr th:only-of-type {\n",
       "        vertical-align: middle;\n",
       "    }\n",
       "\n",
       "    .dataframe tbody tr th {\n",
       "        vertical-align: top;\n",
       "    }\n",
       "\n",
       "    .dataframe thead th {\n",
       "        text-align: right;\n",
       "    }\n",
       "</style>\n",
       "<table border=\"1\" class=\"dataframe\">\n",
       "  <thead>\n",
       "    <tr style=\"text-align: right;\">\n",
       "      <th></th>\n",
       "      <th>left_spec_id</th>\n",
       "      <th>right_spec_id</th>\n",
       "      <th>label</th>\n",
       "    </tr>\n",
       "  </thead>\n",
       "  <tbody>\n",
       "    <tr>\n",
       "      <th>0</th>\n",
       "      <td>www.garricks.com.au//31</td>\n",
       "      <td>www.ebay.com//53278</td>\n",
       "      <td>1</td>\n",
       "    </tr>\n",
       "    <tr>\n",
       "      <th>1</th>\n",
       "      <td>www.ebay.com//58782</td>\n",
       "      <td>www.ebay.com//24817</td>\n",
       "      <td>0</td>\n",
       "    </tr>\n",
       "    <tr>\n",
       "      <th>2</th>\n",
       "      <td>www.ebay.com//58782</td>\n",
       "      <td>www.ebay.com//43019</td>\n",
       "      <td>0</td>\n",
       "    </tr>\n",
       "    <tr>\n",
       "      <th>3</th>\n",
       "      <td>www.ebay.com//42055</td>\n",
       "      <td>www.ebay.com//54403</td>\n",
       "      <td>0</td>\n",
       "    </tr>\n",
       "    <tr>\n",
       "      <th>4</th>\n",
       "      <td>www.ebay.com//44280</td>\n",
       "      <td>buy.net//6145</td>\n",
       "      <td>0</td>\n",
       "    </tr>\n",
       "  </tbody>\n",
       "</table>\n",
       "</div>"
      ],
      "text/plain": [
       "              left_spec_id        right_spec_id  label\n",
       "0  www.garricks.com.au//31  www.ebay.com//53278      1\n",
       "1      www.ebay.com//58782  www.ebay.com//24817      0\n",
       "2      www.ebay.com//58782  www.ebay.com//43019      0\n",
       "3      www.ebay.com//42055  www.ebay.com//54403      0\n",
       "4      www.ebay.com//44280        buy.net//6145      0"
      ]
     },
     "execution_count": 18,
     "metadata": {},
     "output_type": "execute_result"
    }
   ],
   "source": [
    "inspect_df(labels)"
   ]
  },
  {
   "cell_type": "code",
   "execution_count": 19,
   "id": "solved-sender",
   "metadata": {},
   "outputs": [],
   "source": [
    "def random_classifier(*args):\n",
    "    \"\"\"A random classifier.\n",
    "    \n",
    "    Returns: True of False (i.e. if products are the same)\n",
    "    \"\"\"\n",
    "    return random.random() > 0.5"
   ]
  },
  {
   "cell_type": "code",
   "execution_count": 20,
   "id": "charged-strength",
   "metadata": {},
   "outputs": [],
   "source": [
    "predictions = labels.apply(random_classifier, axis=1)"
   ]
  },
  {
   "cell_type": "code",
   "execution_count": 21,
   "id": "democratic-organizer",
   "metadata": {},
   "outputs": [
    {
     "data": {
      "text/plain": [
       "0.49767491696132005"
      ]
     },
     "execution_count": 21,
     "metadata": {},
     "output_type": "execute_result"
    }
   ],
   "source": [
    "metrics.accuracy_score(predictions, labels['label'])"
   ]
  },
  {
   "cell_type": "code",
   "execution_count": 22,
   "id": "numeric-immigration",
   "metadata": {},
   "outputs": [
    {
     "data": {
      "text/plain": [
       "0.5022333891680625"
      ]
     },
     "execution_count": 22,
     "metadata": {},
     "output_type": "execute_result"
    }
   ],
   "source": [
    "metrics.precision_score(predictions, labels['label'])"
   ]
  },
  {
   "cell_type": "code",
   "execution_count": 23,
   "id": "recorded-third",
   "metadata": {},
   "outputs": [
    {
     "data": {
      "text/plain": [
       "0.07669352432109817"
      ]
     },
     "execution_count": 23,
     "metadata": {},
     "output_type": "execute_result"
    }
   ],
   "source": [
    "metrics.recall_score(predictions, labels['label'])"
   ]
  },
  {
   "cell_type": "code",
   "execution_count": 24,
   "id": "wrong-richmond",
   "metadata": {},
   "outputs": [
    {
     "data": {
      "text/plain": [
       "0.13306705129627575"
      ]
     },
     "execution_count": 24,
     "metadata": {},
     "output_type": "execute_result"
    }
   ],
   "source": [
    "metrics.f1_score(predictions, labels['label'])"
   ]
  },
  {
   "cell_type": "markdown",
   "id": "baking-baseline",
   "metadata": {},
   "source": [
    "This is a good indication of the model performance:  **f1 = 0.1337**"
   ]
  },
  {
   "cell_type": "code",
   "execution_count": 25,
   "id": "patent-singles",
   "metadata": {},
   "outputs": [
    {
     "data": {
      "text/plain": [
       "array([[21425,  1783],\n",
       "       [21658,  1799]])"
      ]
     },
     "execution_count": 25,
     "metadata": {},
     "output_type": "execute_result"
    }
   ],
   "source": [
    "metrics.confusion_matrix(predictions, labels['label'])"
   ]
  },
  {
   "cell_type": "markdown",
   "id": "multiple-checklist",
   "metadata": {},
   "source": [
    "This is the initial, baseline performance. Our model should easily outperform this random classifier."
   ]
  },
  {
   "cell_type": "markdown",
   "id": "owned-experiment",
   "metadata": {},
   "source": [
    "# A Better Baseline Model: \\<page title\\> similarity"
   ]
  },
  {
   "cell_type": "code",
   "execution_count": 26,
   "id": "union-competition",
   "metadata": {},
   "outputs": [
    {
     "data": {
      "image/png": "[encoded data removed]",
      "text/plain": [
       "<Figure size 640x480 with 1 Axes>"
      ]
     },
     "metadata": {},
     "output_type": "display_data"
    },
    {
     "data": {
      "text/plain": [
       "<ggplot: (8767331166313)>"
      ]
     },
     "execution_count": 26,
     "metadata": {},
     "output_type": "execute_result"
    }
   ],
   "source": [
    "ggplot() + \\\n",
    "    geom_histogram(mapping=aes(x=specs['<page title>'].map(len)), colour='white', bins=30) + \\\n",
    "    xlab('<page title>: no. of characters ')"
   ]
  },
  {
   "cell_type": "code",
   "execution_count": 27,
   "id": "aggregate-smoke",
   "metadata": {},
   "outputs": [
    {
     "data": {
      "image/png": "[encoded data removed]",
      "text/plain": [
       "<Figure size 640x480 with 1 Axes>"
      ]
     },
     "metadata": {},
     "output_type": "display_data"
    },
    {
     "data": {
      "text/plain": [
       "<ggplot: (8767331098953)>"
      ]
     },
     "execution_count": 27,
     "metadata": {},
     "output_type": "execute_result"
    }
   ],
   "source": [
    "ggplot() + \\\n",
    "    geom_histogram(mapping=aes(x=specs['<page title>'].map(lambda title: len(title.split()))), colour='white', bins=30) + \\\n",
    "    xlab('<page title>: no. of words')"
   ]
  },
  {
   "cell_type": "markdown",
   "id": "faced-paste",
   "metadata": {},
   "source": [
    "We will use a BoW model + a text similarity algorithm + a suitable threshold in order to assert whether two cameras are the same."
   ]
  },
  {
   "cell_type": "code",
   "execution_count": 28,
   "id": "temporal-things",
   "metadata": {},
   "outputs": [],
   "source": [
    "def get_corpus(data: pd.DataFrame) -> np.ndarray:\n",
    "    \n",
    "    return data['<page title>'].values"
   ]
  },
  {
   "cell_type": "code",
   "execution_count": 29,
   "id": "modular-thomas",
   "metadata": {},
   "outputs": [],
   "source": [
    "vectorizer = feature_extraction.text.CountVectorizer()"
   ]
  },
  {
   "cell_type": "code",
   "execution_count": 30,
   "id": "authentic-majority",
   "metadata": {},
   "outputs": [
    {
     "data": {
      "text/plain": [
       "CountVectorizer()"
      ]
     },
     "execution_count": 30,
     "metadata": {},
     "output_type": "execute_result"
    }
   ],
   "source": [
    "vectorizer.fit(get_corpus(specs))"
   ]
  },
  {
   "cell_type": "code",
   "execution_count": 31,
   "id": "peripheral-stewart",
   "metadata": {},
   "outputs": [],
   "source": [
    "def create_dataset(data: pd.DataFrame, labels: pd.DataFrame, features: list):\n",
    "    \"\"\"Helper method that creates a dataset.\n",
    "    \"\"\"\n",
    "    left_part = pd.merge(labels, data[features], how='inner', left_on='left_spec_id', right_on='id')\n",
    "    \n",
    "    right_part = pd.merge(labels, data[features], how='inner', left_on='right_spec_id', right_on='id')\n",
    "    \n",
    "    dataset = pd.merge(left_part, right_part, how='inner', on=('left_spec_id', 'right_spec_id'), \n",
    "                       suffixes=('_left', '_right'))\n",
    "    \n",
    "    dataset['label'] = dataset['label_left']\n",
    "    dataset.drop(['label_left', 'label_right'], axis=1, inplace=True)\n",
    "    \n",
    "    dataset.set_index(['left_spec_id', 'right_spec_id'], inplace=True)\n",
    "    \n",
    "    return dataset"
   ]
  },
  {
   "cell_type": "code",
   "execution_count": 32,
   "id": "frank-tackle",
   "metadata": {},
   "outputs": [
    {
     "name": "stdout",
     "output_type": "stream",
     "text": [
      "shape: (46665, 3)\n"
     ]
    },
    {
     "data": {
      "text/html": [
       "<div>\n",
       "<style scoped>\n",
       "    .dataframe tbody tr th:only-of-type {\n",
       "        vertical-align: middle;\n",
       "    }\n",
       "\n",
       "    .dataframe tbody tr th {\n",
       "        vertical-align: top;\n",
       "    }\n",
       "\n",
       "    .dataframe thead th {\n",
       "        text-align: right;\n",
       "    }\n",
       "</style>\n",
       "<table border=\"1\" class=\"dataframe\">\n",
       "  <thead>\n",
       "    <tr style=\"text-align: right;\">\n",
       "      <th></th>\n",
       "      <th></th>\n",
       "      <th>&lt;page title&gt;_left</th>\n",
       "      <th>&lt;page title&gt;_right</th>\n",
       "      <th>label</th>\n",
       "    </tr>\n",
       "    <tr>\n",
       "      <th>left_spec_id</th>\n",
       "      <th>right_spec_id</th>\n",
       "      <th></th>\n",
       "      <th></th>\n",
       "      <th></th>\n",
       "    </tr>\n",
       "  </thead>\n",
       "  <tbody>\n",
       "    <tr>\n",
       "      <th rowspan=\"5\" valign=\"top\">www.garricks.com.au//31</th>\n",
       "      <th>www.ebay.com//53278</th>\n",
       "      <td>Nikon D3200 Black w/ 18-55mm VR Lens</td>\n",
       "      <td>Nikon D3200 24 2 MP Digital SLR Camera Black K...</td>\n",
       "      <td>1</td>\n",
       "    </tr>\n",
       "    <tr>\n",
       "      <th>www.ebay.com//48947</th>\n",
       "      <td>Nikon D3200 Black w/ 18-55mm VR Lens</td>\n",
       "      <td>Canon EOS 5D 12 8MP Digital SLR with Battery G...</td>\n",
       "      <td>0</td>\n",
       "    </tr>\n",
       "    <tr>\n",
       "      <th>www.ebay.com//42569</th>\n",
       "      <td>Nikon D3200 Black w/ 18-55mm VR Lens</td>\n",
       "      <td>Nikon D800 36 3 MP MB D12 Multi Power Battery ...</td>\n",
       "      <td>0</td>\n",
       "    </tr>\n",
       "    <tr>\n",
       "      <th>www.shopbot.com.au//1376</th>\n",
       "      <td>Nikon D3200 Black w/ 18-55mm VR Lens</td>\n",
       "      <td>Nikon D7000 / 18-105mm VR Kit - Price comparis...</td>\n",
       "      <td>0</td>\n",
       "    </tr>\n",
       "    <tr>\n",
       "      <th>www.ebay.com//55623</th>\n",
       "      <td>Nikon D3200 Black w/ 18-55mm VR Lens</td>\n",
       "      <td>Nikon D7000 16 2 MP Digital SLR Camera Black K...</td>\n",
       "      <td>0</td>\n",
       "    </tr>\n",
       "  </tbody>\n",
       "</table>\n",
       "</div>"
      ],
      "text/plain": [
       "                                                                     <page title>_left  \\\n",
       "left_spec_id            right_spec_id                                                    \n",
       "www.garricks.com.au//31 www.ebay.com//53278       Nikon D3200 Black w/ 18-55mm VR Lens   \n",
       "                        www.ebay.com//48947       Nikon D3200 Black w/ 18-55mm VR Lens   \n",
       "                        www.ebay.com//42569       Nikon D3200 Black w/ 18-55mm VR Lens   \n",
       "                        www.shopbot.com.au//1376  Nikon D3200 Black w/ 18-55mm VR Lens   \n",
       "                        www.ebay.com//55623       Nikon D3200 Black w/ 18-55mm VR Lens   \n",
       "\n",
       "                                                                                 <page title>_right  \\\n",
       "left_spec_id            right_spec_id                                                                 \n",
       "www.garricks.com.au//31 www.ebay.com//53278       Nikon D3200 24 2 MP Digital SLR Camera Black K...   \n",
       "                        www.ebay.com//48947       Canon EOS 5D 12 8MP Digital SLR with Battery G...   \n",
       "                        www.ebay.com//42569       Nikon D800 36 3 MP MB D12 Multi Power Battery ...   \n",
       "                        www.shopbot.com.au//1376  Nikon D7000 / 18-105mm VR Kit - Price comparis...   \n",
       "                        www.ebay.com//55623       Nikon D7000 16 2 MP Digital SLR Camera Black K...   \n",
       "\n",
       "                                                  label  \n",
       "left_spec_id            right_spec_id                    \n",
       "www.garricks.com.au//31 www.ebay.com//53278           1  \n",
       "                        www.ebay.com//48947           0  \n",
       "                        www.ebay.com//42569           0  \n",
       "                        www.shopbot.com.au//1376      0  \n",
       "                        www.ebay.com//55623           0  "
      ]
     },
     "execution_count": 32,
     "metadata": {},
     "output_type": "execute_result"
    }
   ],
   "source": [
    "X = create_dataset(data=specs, labels=labels, features=top10[0])\n",
    "\n",
    "inspect_df(X)"
   ]
  },
  {
   "cell_type": "code",
   "execution_count": 33,
   "id": "enabling-providence",
   "metadata": {},
   "outputs": [],
   "source": [
    "def pagetitle_similarity(title1: str, title2: str) -> float:\n",
    "    \n",
    "    vec1 = vectorizer.transform([title1])\n",
    "    vec2 = vectorizer.transform([title2])\n",
    "\n",
    "    return metrics.pairwise.cosine_similarity(vec1, vec2).take(0)"
   ]
  },
  {
   "cell_type": "code",
   "execution_count": 34,
   "id": "affiliated-junction",
   "metadata": {},
   "outputs": [],
   "source": [
    "X['similarity'] = X[['<page title>_left', '<page title>_right']].apply(lambda x: pagetitle_similarity(x[0], x[1]), axis=1)"
   ]
  },
  {
   "cell_type": "code",
   "execution_count": 35,
   "id": "universal-survival",
   "metadata": {},
   "outputs": [
    {
     "data": {
      "text/plain": [
       "0.44840187004232046"
      ]
     },
     "execution_count": 35,
     "metadata": {},
     "output_type": "execute_result"
    }
   ],
   "source": [
    "X[X['label'] == 1]['similarity'].mean()"
   ]
  },
  {
   "cell_type": "code",
   "execution_count": 36,
   "id": "headed-mauritius",
   "metadata": {},
   "outputs": [
    {
     "data": {
      "text/plain": [
       "0.21454835609656142"
      ]
     },
     "execution_count": 36,
     "metadata": {},
     "output_type": "execute_result"
    }
   ],
   "source": [
    "X[X['label'] == 0]['similarity'].mean()"
   ]
  },
  {
   "cell_type": "code",
   "execution_count": 37,
   "id": "solved-launch",
   "metadata": {},
   "outputs": [],
   "source": [
    "X['predictions'] = X['similarity'].map(lambda score: score > 0.5)"
   ]
  },
  {
   "cell_type": "code",
   "execution_count": 38,
   "id": "dated-moisture",
   "metadata": {},
   "outputs": [
    {
     "data": {
      "text/plain": [
       "0.9056894889103182"
      ]
     },
     "execution_count": 38,
     "metadata": {},
     "output_type": "execute_result"
    }
   ],
   "source": [
    "metrics.accuracy_score(X['predictions'], X['label'])"
   ]
  },
  {
   "cell_type": "code",
   "execution_count": 39,
   "id": "annoying-guyana",
   "metadata": {},
   "outputs": [
    {
     "data": {
      "text/plain": [
       "0.38358458961474035"
      ]
     },
     "execution_count": 39,
     "metadata": {},
     "output_type": "execute_result"
    }
   ],
   "source": [
    "metrics.precision_score(X['predictions'], X['label'])"
   ]
  },
  {
   "cell_type": "code",
   "execution_count": 40,
   "id": "duplicate-secret",
   "metadata": {},
   "outputs": [
    {
     "data": {
      "text/plain": [
       "0.38519764507989906"
      ]
     },
     "execution_count": 40,
     "metadata": {},
     "output_type": "execute_result"
    }
   ],
   "source": [
    "metrics.recall_score(X['predictions'], X['label'])"
   ]
  },
  {
   "cell_type": "code",
   "execution_count": 41,
   "id": "selective-lightweight",
   "metadata": {},
   "outputs": [
    {
     "data": {
      "text/plain": [
       "0.38438942509441876"
      ]
     },
     "execution_count": 41,
     "metadata": {},
     "output_type": "execute_result"
    }
   ],
   "source": [
    "metrics.f1_score(X['predictions'], X['label'])"
   ]
  },
  {
   "cell_type": "markdown",
   "id": "composed-topic",
   "metadata": {},
   "source": [
    "With this model we improved:  **f1 = 0.3843**"
   ]
  },
  {
   "cell_type": "code",
   "execution_count": 42,
   "id": "durable-purchase",
   "metadata": {},
   "outputs": [
    {
     "data": {
      "text/plain": [
       "array([[40890,  2208],\n",
       "       [ 2193,  1374]])"
      ]
     },
     "execution_count": 42,
     "metadata": {},
     "output_type": "execute_result"
    }
   ],
   "source": [
    "metrics.confusion_matrix(X['predictions'], X['label'])"
   ]
  },
  {
   "cell_type": "markdown",
   "id": "imposed-norman",
   "metadata": {},
   "source": [
    "We can definitely improve over this by a better choice of text embeddings or similarity algorithm.\n",
    "\n",
    "But, all things considered, any approach that relies on the notion of similarity between page titles could not drastically improve the 0.38 F1 score.\n",
    "\n",
    "It is time to proceed with an ML approach."
   ]
  },
  {
   "cell_type": "markdown",
   "id": "representative-sentence",
   "metadata": {},
   "source": [
    "# Feature Extraction"
   ]
  },
  {
   "cell_type": "code",
   "execution_count": 43,
   "id": "western-young",
   "metadata": {},
   "outputs": [],
   "source": [
    "MAX_PRODUCTS = 1000"
   ]
  },
  {
   "cell_type": "code",
   "execution_count": 44,
   "id": "dominican-decision",
   "metadata": {},
   "outputs": [],
   "source": [
    "camera_pairs = list(distinct_combinations(specs.index[:MAX_PRODUCTS], 2))"
   ]
  },
  {
   "cell_type": "code",
   "execution_count": 46,
   "id": "automatic-chess",
   "metadata": {},
   "outputs": [
    {
     "name": "stdout",
     "output_type": "stream",
     "text": [
      "shape: (29787, 10)\n"
     ]
    },
    {
     "data": {
      "text/html": [
       "<div>\n",
       "<style scoped>\n",
       "    .dataframe tbody tr th:only-of-type {\n",
       "        vertical-align: middle;\n",
       "    }\n",
       "\n",
       "    .dataframe tbody tr th {\n",
       "        vertical-align: top;\n",
       "    }\n",
       "\n",
       "    .dataframe thead th {\n",
       "        text-align: right;\n",
       "    }\n",
       "</style>\n",
       "<table border=\"1\" class=\"dataframe\">\n",
       "  <thead>\n",
       "    <tr style=\"text-align: right;\">\n",
       "      <th></th>\n",
       "      <th>&lt;page title&gt;</th>\n",
       "      <th>brand</th>\n",
       "      <th>model</th>\n",
       "      <th>megapixels</th>\n",
       "      <th>type</th>\n",
       "      <th>screen size</th>\n",
       "      <th>optical zoom</th>\n",
       "      <th>mpn</th>\n",
       "      <th>condition</th>\n",
       "      <th>upc</th>\n",
       "    </tr>\n",
       "    <tr>\n",
       "      <th>id</th>\n",
       "      <th></th>\n",
       "      <th></th>\n",
       "      <th></th>\n",
       "      <th></th>\n",
       "      <th></th>\n",
       "      <th></th>\n",
       "      <th></th>\n",
       "      <th></th>\n",
       "      <th></th>\n",
       "      <th></th>\n",
       "    </tr>\n",
       "  </thead>\n",
       "  <tbody>\n",
       "    <tr>\n",
       "      <th>buy.net//6015</th>\n",
       "      <td>Canon PowerShot SX200 IS 12.1 Megapixel Compac...</td>\n",
       "      <td>NaN</td>\n",
       "      <td>NaN</td>\n",
       "      <td>NaN</td>\n",
       "      <td>NaN</td>\n",
       "      <td>NaN</td>\n",
       "      <td>12 X</td>\n",
       "      <td>NaN</td>\n",
       "      <td>NaN</td>\n",
       "      <td>NaN</td>\n",
       "    </tr>\n",
       "    <tr>\n",
       "      <th>buy.net//6383</th>\n",
       "      <td>Sony DSC-RX100/B Black Digital Camera (20.2 MP...</td>\n",
       "      <td>NaN</td>\n",
       "      <td>NaN</td>\n",
       "      <td>NaN</td>\n",
       "      <td>NaN</td>\n",
       "      <td>NaN</td>\n",
       "      <td>3.6 X</td>\n",
       "      <td>NaN</td>\n",
       "      <td>NaN</td>\n",
       "      <td>NaN</td>\n",
       "    </tr>\n",
       "    <tr>\n",
       "      <th>buy.net//6698</th>\n",
       "      <td>Canon EOS-1D X Black SLR Digital Camera - Body...</td>\n",
       "      <td>NaN</td>\n",
       "      <td>NaN</td>\n",
       "      <td>NaN</td>\n",
       "      <td>NaN</td>\n",
       "      <td>NaN</td>\n",
       "      <td>NaN</td>\n",
       "      <td>NaN</td>\n",
       "      <td>NaN</td>\n",
       "      <td>NaN</td>\n",
       "    </tr>\n",
       "    <tr>\n",
       "      <th>buy.net//6123</th>\n",
       "      <td>Olympus Pen E-P5 White Digital Camera (16.1 MP...</td>\n",
       "      <td>NaN</td>\n",
       "      <td>NaN</td>\n",
       "      <td>NaN</td>\n",
       "      <td>NaN</td>\n",
       "      <td>NaN</td>\n",
       "      <td>NaN</td>\n",
       "      <td>NaN</td>\n",
       "      <td>NaN</td>\n",
       "      <td>NaN</td>\n",
       "    </tr>\n",
       "    <tr>\n",
       "      <th>buy.net//6212</th>\n",
       "      <td>Canon PowerShot G1 X Mark II Black Digital Cam...</td>\n",
       "      <td>NaN</td>\n",
       "      <td>NaN</td>\n",
       "      <td>NaN</td>\n",
       "      <td>NaN</td>\n",
       "      <td>NaN</td>\n",
       "      <td>5 X</td>\n",
       "      <td>NaN</td>\n",
       "      <td>NaN</td>\n",
       "      <td>NaN</td>\n",
       "    </tr>\n",
       "  </tbody>\n",
       "</table>\n",
       "</div>"
      ],
      "text/plain": [
       "                                                    <page title> brand model  \\\n",
       "id                                                                             \n",
       "buy.net//6015  Canon PowerShot SX200 IS 12.1 Megapixel Compac...   NaN   NaN   \n",
       "buy.net//6383  Sony DSC-RX100/B Black Digital Camera (20.2 MP...   NaN   NaN   \n",
       "buy.net//6698  Canon EOS-1D X Black SLR Digital Camera - Body...   NaN   NaN   \n",
       "buy.net//6123  Olympus Pen E-P5 White Digital Camera (16.1 MP...   NaN   NaN   \n",
       "buy.net//6212  Canon PowerShot G1 X Mark II Black Digital Cam...   NaN   NaN   \n",
       "\n",
       "              megapixels type screen size optical zoom  mpn condition  upc  \n",
       "id                                                                          \n",
       "buy.net//6015        NaN  NaN         NaN         12 X  NaN       NaN  NaN  \n",
       "buy.net//6383        NaN  NaN         NaN        3.6 X  NaN       NaN  NaN  \n",
       "buy.net//6698        NaN  NaN         NaN          NaN  NaN       NaN  NaN  \n",
       "buy.net//6123        NaN  NaN         NaN          NaN  NaN       NaN  NaN  \n",
       "buy.net//6212        NaN  NaN         NaN          5 X  NaN       NaN  NaN  "
      ]
     },
     "execution_count": 46,
     "metadata": {},
     "output_type": "execute_result"
    }
   ],
   "source": [
    "inspect_df(specs[top10])"
   ]
  },
  {
   "cell_type": "markdown",
   "id": "heavy-liverpool",
   "metadata": {},
   "source": [
    "### brand"
   ]
  },
  {
   "cell_type": "code",
   "execution_count": 47,
   "id": "hidden-national",
   "metadata": {},
   "outputs": [
    {
     "name": "stdout",
     "output_type": "stream",
     "text": [
      "['Pentax', 'Pentax']\n",
      "['Kodak', 'Kodak']\n",
      "['Nikon Megapixels: 12.1 MP', 'Nikon\\nMegapixels:\\n12.1 MP']\n",
      "['Kodak Optical Zoom: 8x', 'Kodak\\nOptical Zoom:\\n8x']\n",
      "['Nikon\\nType:\\nDigital SLR', 'Nikon']\n",
      "['Canon', 'Canon']\n",
      "['Nikon', 'Nikon']\n",
      "['Pentax', 'Pentax']\n",
      "['Canon', 'Canon']\n",
      "['Pentax', 'Pentax']\n",
      "['Pentax', 'Pentax']\n",
      "['Pentax', 'Pentax']\n",
      "['Olympus', 'Olympus']\n",
      "['Nikon', 'Nikon']\n",
      "['Nikon', 'Nikon']\n",
      "['Canon', 'Canon']\n",
      "['Nikon', 'Nikon']\n",
      "['Canon', 'Canon']\n",
      "['Canon', 'Canon']\n",
      "['Nikon', 'Nikon']\n",
      "['Canon', 'Canon']\n",
      "['Canon', 'Canon']\n",
      "['Pentax', 'Pentax']\n",
      "['Pentax', 'Pentax']\n",
      "['Nikon', 'Nikon']\n",
      "['Sony', 'Sony']\n",
      "['Canon', 'Canon']\n",
      "['Olympus', 'Olympus']\n",
      "['Nikon', 'Nikon']\n",
      "['Nikon', 'Nikon']\n",
      "['Pentax', 'Pentax']\n",
      "['Samsung', 'Samsung']\n",
      "['Pentax', 'Pentax']\n",
      "['Pentax', 'Pentax']\n",
      "['Focus', 'Sony']\n",
      "['NikonEu', 'Nikon']\n"
     ]
    }
   ],
   "source": [
    "for brand in specs[specs['brand'].notna()]['brand'].tolist():\n",
    "\n",
    "    if not isinstance(brand, str):\n",
    "        print(brand)"
   ]
  },
  {
   "cell_type": "code",
   "execution_count": 48,
   "id": "conscious-collection",
   "metadata": {},
   "outputs": [],
   "source": [
    "def get_brand(value: str) -> str:\n",
    "    \n",
    "    if isinstance(value, str):\n",
    "        \n",
    "        return value\n",
    "    \n",
    "    try:\n",
    "        brands = sorted(value, key=len, reverse=True)\n",
    "        \n",
    "        return brands[0]\n",
    "    \n",
    "    except (KeyError, TypeError):\n",
    "        return None"
   ]
  },
  {
   "cell_type": "code",
   "execution_count": 49,
   "id": "stylish-corruption",
   "metadata": {},
   "outputs": [],
   "source": [
    "specs['brand'] = specs['brand'].map(get_brand)"
   ]
  },
  {
   "cell_type": "code",
   "execution_count": 50,
   "id": "speaking-former",
   "metadata": {},
   "outputs": [
    {
     "data": {
      "text/plain": [
       "Canon                    3866\n",
       "Nikon                    3311\n",
       "Sony                     2100\n",
       "Olympus                   948\n",
       "Fujifilm                  933\n",
       "Panasonic                 716\n",
       "Samsung                   678\n",
       "Kodak                     671\n",
       "Pentax                    382\n",
       "Vivitar                   166\n",
       "Casio                     159\n",
       "Leica                     113\n",
       "Polaroid                  101\n",
       "GE                         90\n",
       "HP                         87\n",
       "Ricoh                      69\n",
       "Carbose                    61\n",
       "GoPro                      58\n",
       "Konica Minolta             54\n",
       "SVP                        51\n",
       "Nikon Web Site             49\n",
       "Sanyo                      45\n",
       "Fuji                       39\n",
       "Canon Web Site             33\n",
       "Vizio                      31\n",
       "Minolta                    27\n",
       "Coleman                    24\n",
       "FVANOR                     24\n",
       "Bell & Howell              22\n",
       "Sakar                      21\n",
       "Sigma                      20\n",
       "Toshiba                    18\n",
       "As customer's request      18\n",
       "Unbranded/Generic          17\n",
       "LG                         17\n",
       "Philips                    16\n",
       "Lytro                      15\n",
       "Telesin                    14\n",
       "for Canon SX510            13\n",
       "SeaLife                    12\n",
       "Name: brand, dtype: int64"
      ]
     },
     "execution_count": 50,
     "metadata": {},
     "output_type": "execute_result"
    }
   ],
   "source": [
    "specs['brand'].value_counts()[:40]"
   ]
  },
  {
   "cell_type": "markdown",
   "id": "advised-plane",
   "metadata": {},
   "source": [
    "### model"
   ]
  },
  {
   "cell_type": "code",
   "execution_count": 51,
   "id": "aging-cowboy",
   "metadata": {},
   "outputs": [
    {
     "name": "stdout",
     "output_type": "stream",
     "text": [
      "['0001820825468', 'Nikon D7000']\n",
      "['Wingmaster&reg; Standard Contour', 'Special Purpose Deer', 'Special Purpose', 'Premier Deer', 'Express&reg; Deer', 'Express Deer', 'Cantilever w/Scope', 'Cantilever']\n",
      "['DMCGX7SBODY', 'Panasonic DMC-GX7']\n",
      "['Nikon J2', '0001820827572']\n",
      "['NEX7KB', 'Sony NEX-7']\n",
      "['Premier Deer', 'Special Purpose', 'Special Purpose Deer', 'Wingmaster&reg; Standard Contour', 'Cantilever', 'Cantilever w/Scope', 'Express Deer', 'Express&reg; Deer']\n",
      "['Nikon D3100', '0001820813284']\n",
      "['Sony NEX-6', 'NEX6LB']\n",
      "['NEX7B', 'Sony NEX-7']\n",
      "['25482', 'Nikon D4']\n",
      "['SLTA99V', 'Sony SLT-A99']\n",
      "['Pentax K-5', '0002707517668']\n",
      "['Cantilever w/Scope', 'Express Deer', 'Express&reg; Deer', 'Premier Deer', 'Special Purpose', 'Special Purpose Deer', 'Wingmaster&reg; Standard Contour', 'Cantilever']\n",
      "['NEX6B', 'Sony NEX-6']\n",
      "['Wingmaster&reg; Standard Contour', 'Cantilever', 'Cantilever w/Scope', 'Express Deer', 'Express&reg; Deer', 'Premier Deer', 'Special Purpose', 'Special Purpose Deer']\n",
      "['6596B002', 'Canon 60DA']\n",
      "['0002724286589', 'Sony SLT-A58']\n",
      "['5253B002', 'Canon 1DX']\n",
      "['Panasonic DMC-G6', 'DMCG6KK']\n",
      "['0001820825488', 'Nikon D600']\n",
      "['13290', 'Nikon D3100']\n",
      "['Sony SLT-A99', 'SLTA99V']\n",
      "['Canon T3i', 'Canon T3']\n",
      "['Nikon D600', '0001820813203']\n",
      "['Fuji X-PRO1', '16225391']\n",
      "['Pentax K-50', '0002707523311']\n",
      "['Nikon D5100', '25476']\n",
      "['0002724284758', 'Sony SLT-A37']\n",
      "['DSLRA560L', 'Sony A560']\n",
      "['Nikon D7000', '0001820813019']\n",
      "['Nikon D3100', '0001820813284']\n",
      "['DMCGF6KK', 'Panasonic DMC-GF6']\n",
      "['Q', 'W30']\n",
      "['CX7300', 'CX7300']\n",
      "['S8100 Optical Zoom: 10x', 'S8100\\nOptical Zoom:\\n10x']\n",
      "['M580 Screen Size: 3\"', 'M580\\nScreen Size:\\n3\"']\n"
     ]
    }
   ],
   "source": [
    "for model in specs[specs['model'].notna()]['model'].tolist():\n",
    "\n",
    "    if not isinstance(model, str):\n",
    "        print(model)"
   ]
  },
  {
   "cell_type": "code",
   "execution_count": 52,
   "id": "covered-rochester",
   "metadata": {},
   "outputs": [],
   "source": [
    "def get_model(value: str) -> str:\n",
    "    \n",
    "    if isinstance(value, str):\n",
    "        \n",
    "        return value\n",
    "    \n",
    "    try:\n",
    "        models = sorted(value, key=len, reverse=True)\n",
    "        \n",
    "        return models[0]\n",
    "    \n",
    "    except (KeyError, TypeError):\n",
    "        return None"
   ]
  },
  {
   "cell_type": "code",
   "execution_count": 53,
   "id": "hired-montreal",
   "metadata": {},
   "outputs": [],
   "source": [
    "specs['model'] = specs['model'].map(get_model)"
   ]
  },
  {
   "cell_type": "markdown",
   "id": "structured-translation",
   "metadata": {},
   "source": [
    "### megapixels"
   ]
  },
  {
   "cell_type": "code",
   "execution_count": 54,
   "id": "guided-quilt",
   "metadata": {},
   "outputs": [
    {
     "name": "stdout",
     "output_type": "stream",
     "text": [
      "['12.1', '10.0']\n",
      "['12.0', '12.1']\n",
      "['8.0', '10.0']\n",
      "['12.1', '12.0']\n",
      "['12.1', '10.0']\n",
      "['12.1', '10.0']\n",
      "['14', '12.1']\n",
      "['24 Megapixels', '16 Megapixels']\n",
      "['8.0', '10.0']\n",
      "['12.0', '11.1']\n",
      "['12.1', '14']\n",
      "['14', '12.1']\n",
      "['12.0', '12.1']\n",
      "['12.1', '16']\n",
      "['14', '12.0']\n",
      "['14', '16']\n",
      "['12.0', '12.1', '10.0']\n",
      "['16', '10.0']\n",
      "['12.0', '12.1', '10.0']\n",
      "['16', '14']\n",
      "['10.0', '8.0']\n",
      "['10.0', '8.0']\n",
      "['16', '14']\n",
      "['10.0', '16']\n",
      "['14', '12.1']\n",
      "['16 Megapixels', '24 Megapixels']\n",
      "['10.2', '10.0']\n",
      "['18', '12.0']\n",
      "['14', '12.0']\n",
      "['24', '16']\n",
      "['12.0', '11.1']\n",
      "['10.1 MP\\nModel:\\nJ1', '10.1']\n",
      "['8.0 MP Model: E890', '8.0 MP\\nModel:\\nVPC-E890']\n",
      "['14.2 MP\\nModel:\\nD3100', '14.2']\n",
      "['16', '16.0 MP\\nModel:\\nS9600']\n",
      "['12.1', '12.1 MP\\nModel:\\nSX510 HS']\n",
      "['21.1', '18.0']\n",
      "['14.0 MP\\nModel:\\nTough 8010 / Âµ (mju) Tough 8010', '14.0 MP Model: Tough 8010 / Âµ (mju) Tough 8010']\n",
      "['14.0 MP', '14.0 MP']\n",
      "['12.1 MP\\nModel:\\nSX50 HS', '12.1']\n",
      "['10.1 MP\\nModel:\\nRebel XS / 1000D', '10.0 MP\\nBrand:\\nCanon']\n",
      "['14.2', '14.2 MP\\nBrand:\\nNikon']\n",
      "['8.1 MP\\nModel:\\nDSC-W90', '8.1 MP Model: DSC-W90']\n",
      "['6.3 MP\\nMPN:\\n8363A002AA', '6.3 MP Model: 10D']\n",
      "['18', '18.0 MP\\nBrand:\\nCanon']\n"
     ]
    }
   ],
   "source": [
    "for mp in specs[specs['megapixels'].notna()]['megapixels'].tolist():\n",
    "\n",
    "    if not isinstance(mp, str):\n",
    "        print(mp)"
   ]
  },
  {
   "cell_type": "code",
   "execution_count": 55,
   "id": "bearing-hello",
   "metadata": {},
   "outputs": [],
   "source": [
    "def extract_number(value: str) -> int:\n",
    "    \n",
    "    match = re.search(r'\\d{0,2}(.\\d)?', value)\n",
    "    \n",
    "    try: \n",
    "        return float(match.group(0)) if match else None\n",
    "    except ValueError:\n",
    "        return None"
   ]
  },
  {
   "cell_type": "code",
   "execution_count": 56,
   "id": "missing-retirement",
   "metadata": {},
   "outputs": [],
   "source": [
    "def get_megapixels(value: str) -> int:\n",
    "    \n",
    "    if isinstance(value, str):\n",
    "        \n",
    "        return extract_number(value)\n",
    "    \n",
    "    try:\n",
    "        mps = sorted(value, key=len, reverse=True)\n",
    "        \n",
    "        return extract_number(mps[0])\n",
    "    \n",
    "    except (KeyError, TypeError):\n",
    "        return None"
   ]
  },
  {
   "cell_type": "code",
   "execution_count": 57,
   "id": "affecting-orbit",
   "metadata": {},
   "outputs": [],
   "source": [
    "specs['megapixels'] =  specs['megapixels'].map(get_megapixels)"
   ]
  },
  {
   "cell_type": "code",
   "execution_count": 58,
   "id": "biblical-lender",
   "metadata": {},
   "outputs": [],
   "source": [
    "specs['megapixels'] = pd.to_numeric(specs['megapixels'])"
   ]
  },
  {
   "cell_type": "code",
   "execution_count": 59,
   "id": "adolescent-carol",
   "metadata": {},
   "outputs": [
    {
     "data": {
      "text/plain": [
       "16.0    1257\n",
       "12.1     985\n",
       "18.0     776\n",
       "10.0     631\n",
       "14.0     601\n",
       "        ... \n",
       "13.5       1\n",
       "4.3        1\n",
       "13.9       1\n",
       "16.8       1\n",
       "1.4        1\n",
       "Name: megapixels, Length: 147, dtype: int64"
      ]
     },
     "execution_count": 59,
     "metadata": {},
     "output_type": "execute_result"
    }
   ],
   "source": [
    "specs['megapixels'].value_counts()"
   ]
  },
  {
   "cell_type": "markdown",
   "id": "higher-reporter",
   "metadata": {},
   "source": [
    "### type"
   ]
  },
  {
   "cell_type": "code",
   "execution_count": 60,
   "id": "returning-bridges",
   "metadata": {},
   "outputs": [
    {
     "name": "stdout",
     "output_type": "stream",
     "text": [
      "['2 - 7 x 32 scope', 'Cantilever Scope Mount', 'Rifle Sight', 'Ventilated Rib']\n",
      "['2 - 7 x 32 scope', 'Cantilever Scope Mount', 'Rifle Sight', 'Ventilated Rib']\n",
      "['Telephoto', 'Step-Up Rings']\n",
      "['2 - 7 x 32 scope', 'Cantilever Scope Mount', 'Rifle Sight', 'Ventilated Rib']\n",
      "['2 - 7 x 32 scope', 'Cantilever Scope Mount', 'Rifle Sight', 'Ventilated Rib']\n",
      "['Compact digital camera', 'Electronically-controlled ND filter (â\\x80\\x932 AV) selection']\n",
      "['8.0 Megapixel, 1/2.5 inch type Charge Coupled Device (CCD)', 'Compact digital still camera with built-in flash, 3.8x Optical/4x Digital/15x Combined Zoom with Optical Image Stabilizer (IS) System']\n",
      "['Compact digital still camera with built-in flash, 10x Optical/4x Digital/40xCombined Zoom with Optical Image Stabilizer System', '9.0 Megapixel, 1/2.3 inch type Charge Coupled Device (CCD)']\n",
      "['Lens - 8.54 mm - f/3.0', '1.5\" LCD display']\n",
      "['Digital AF/AE SLR camera with built-in flash', 'TTL-CT-SIR AF-dedicated CMOS sensor\\n(TTL Secondary image-registration, phase detection)', 'CMOS sensor']\n",
      "['Point & Shoot Bundled Items: car charger, extra wall charger, Case or Bag, Extra Battery, Strap (Neck or Wrist)', 'Point & Shoot\\nBundled Items:\\nCase or Bag, Memory Card, Memory Reader, Strap (Neck or Wrist), Tripod']\n",
      "['SD, SDHC, SDXC (UHS Speed Class 1 compatible)', 'TTL', 'DIGIC 6 with iSAPS technology', '1/1.7\" type High Sensitivity CMOS']\n",
      "['Digital SLR', 'Digital SLR']\n",
      "['Point & Shoot\\nCountry/Region of Manufacture:\\nChina', 'Point & Shoot Country/Region of Manufacture: China']\n",
      "['High-sensitivity, high-resolution, large single-plate CMOS sensor', 'Digital, AF/AE single-lens reflex camera with built-in flash']\n",
      "['Intermittent flash firing', 'Infrared light remote controller', 'On camera, E-TTL II/E-TTL autoflash Speedlite']\n",
      "['3\" LCD display', '3 x zoom lens - 18 - 55 mm - f/3.5-5.6 II Canon EF-S']\n",
      "['3 x zoom lens - 18 - 55 mm - f/3.5-5.6 IS II Canon EF-S', '3\" LCD display']\n",
      "['3\" LCD display', '3 x zoom lens - 16 - 50 mm - f/3.5-5.6 PZ OSS']\n",
      "['2.7\" LCD display', '3 x zoom lens - 18 - 55 mm - f/3.5-5.6 II Canon EF-S']\n",
      "['3\" LCD display', '3 x zoom lens - 18 - 55 mm - f/3.5-5.6']\n",
      "['3\" LCD display', '30 x zoom lens - 4.3 - 129 mm - f/3.4-5.8']\n",
      "['16 x zoom lens - 5 - 80 mm - f/3.5-5.9', '3\" LCD display']\n",
      "['7.5 x zoom lens - 18 - 135 mm - f/3.5-5.6 Canon EF-S', '3\" LCD display']\n",
      "['3\" LCD display', '18 x zoom lens - 4.5 - 81 mm - f/3.8-6.9']\n",
      "['2.5 x zoom lens - 20 - 50 mm - f/3.5-5.6 i-Function', '3.31\" AMOLED display']\n",
      "['Lens', '2.7\" LCD display']\n",
      "['12 x zoom lens - 4 - 48 mm - f/3.4-5.6', '3.2\" LCD display']\n",
      "['3\" LCD display', 'Carl Zeiss lens - 35 mm - f/2.0 Sonnar T*']\n",
      "['15 x zoom lens - 4.3 - 64.5 mm - f/3.3-5.9', '3\" LCD display']\n",
      "['2.5\" LCD display', 'Lens - 5.7 mm - f/3.2']\n",
      "['3.3\" OLED display', 'Carl Zeiss 5 x zoom lens - 4.7 - 23.5 mm - f/3.5-4.8']\n",
      "['4.3 x zoom lens - 24 - 105 mm - f/4.0 L IS USM Canon EF', '3\" LCD display']\n",
      "['3\" LCD display', 'Fujinon 8 x zoom lens - 4.5 - 36 mm - f/2.9-5.9']\n",
      "['3 x zoom lens - 14 - 42 mm - f/3.5-5.6 X', '3\" LCD display']\n",
      "['5 x zoom lens - 6.2 - 31 mm - f/3.0-5.6', '2.7\" LCD display']\n",
      "['2.7\" LCD display', '15 x zoom lens - 4.9 - 73.5 mm - f/3.0-5.2']\n",
      "['3\" LCD display', '18 x zoom lens - 4.5 - 81 mm - f/3.8-6.9']\n",
      "['3\" LCD display', '18 x zoom lens - 4.5 - 81 mm - f/3.8-6.9']\n",
      "['2.7\" LCD display', 'Lens']\n",
      "['5 x zoom lens - 4.3 - 21.5 mm - f/2.8-4.9', '3\" OLED display']\n",
      "['3\" LCD display', '3 x zoom lens - 18 - 55 mm - f/3.5-5.6 DA L AL Pentax KAF']\n",
      "['2.5\" LCD display', 'Lens - 5.1 mm - f/3.2']\n",
      "['3 x zoom lens - 18 - 55 mm - f/3.5-5.6 II Canon EF-S', '2.7\" LCD display']\n",
      "['3 x zoom lens', '2.4\" LCD display']\n",
      "['3\" LCD display', '60 x zoom lens - 4.3 - 258 mm - f/3.3-6.5']\n",
      "['Lens - 5.7 mm - f/3.2', '2.5\" LCD display']\n",
      "['Lens - 18.5 mm - f/2.8', '3\" LCD display']\n",
      "['Lens - 5.7 mm - f/3.2', '2.5\" LCD display']\n",
      "['Fujinon 8 x zoom lens - 4.5 - 36 mm - f/2.9-5.9', '3\" LCD display']\n",
      "['3\" LCD display', '4 x zoom lens - 15.4 - 60.4 mm - f/2.8-5.8']\n",
      "['2.7\" LCD display', '5 x zoom lens - 5 - 25 mm - f/2.8-6.9']\n",
      "['3\" LCD display', '3 x zoom lens - 18 - 55 mm - f/3.5-5.6 IS II Canon EF-S']\n",
      "['34 x zoom lens - 4 - 136 mm - f/3.0-5.9', '3\" LCD display']\n",
      "['2.7\" LCD display', 'Lens - 8.15 mm - f/3.0']\n",
      "['3\" LCD display', '3 x zoom lens - 18 - 55 mm - f/3.5-5.6 G Nikon AF-S DX VR']\n",
      "['5.8 x zoom lens - 18 - 105 mm - f/3.5-5.6 G Nikon AF-S DX ED VR', '3.2\" LCD display']\n",
      "['3 x zoom lens - 16 - 50 mm - f/3.5-5.6 PZ OSS', '3\" LCD display']\n",
      "['3.2\" LCD display', '3.5 x zoom lens - 24 - 85 mm - f/3.5-4.5 G Nikon AF-S ED VR']\n",
      "['3\" LCD display', '3 x zoom lens - 14 - 42 mm - f/3.5-5.6 X']\n",
      "['18 x zoom lens - 4 - 72 mm - f/3.2-5.8', '3\" LCD display']\n",
      "['3\" LCD display', '42 x zoom lens - 4.3 - 180 mm - f/3.0-5.9']\n",
      "['3 x zoom lens - 18 - 55 mm - f/3.5-5.6 G Nikon AF-S DX VR', '3\" LCD display']\n",
      "['2.7\" LCD display', '5 x zoom lens - 4.5 - 22.5 mm - f/2.5-6.3']\n",
      "['2.5\" LCD display', '3 x zoom lens - 4.1 - 12.3 mm - f/3.3-5.9']\n",
      "['3 x zoom lens - 18 - 55 mm - f/3.5-5.6 II Canon EF-S', '2.7\" LCD display']\n",
      "['2.7\" LCD display', '3 x zoom lens - 18 - 55 mm - f/3.5-5.6 II Canon EF-S']\n",
      "['3\" LCD display', '3 x zoom lens - 10 - 30 mm - f/3.5-5.6']\n",
      "['7.1 x zoom lens - 6 - 42.8 mm - f/2.0-4.0', '3\" LCD display']\n",
      "['30 x zoom lens - 4.3 - 129 mm - f/3.4-5.8', '3\" LCD display']\n",
      "['8 x zoom lens - 5 - 40 mm - f/3.2-6.9', '2.7\" LCD display']\n",
      "['3\" LCD display', '7.5 x zoom lens - 18 - 135 mm - f/3.5-5.6 IS STM Canon EF-S']\n",
      "['3 x zoom lens - 18 - 55 mm - f/3.5-5.6', '3\" LCD display']\n",
      "['2.7\" LCD display', 'Lens - 7.45 mm - f/3.0']\n",
      "['52 x zoom lens - 4.3 - 223.6 mm - f/2.8-5.6', '3\" LCD display']\n",
      "['3 x zoom lens - 18 - 55 mm - f/3.5-5.6', '3\" LCD display']\n",
      "['3\" LCD display', '18 x zoom lens - 4 - 72 mm - f/3.2-5.8']\n",
      "['3\" LCD display', '5 x zoom lens - 4.6 - 23 mm - f/3.2-6.5']\n",
      "['3.2\" LCD display', '3 x zoom lens - 18 - 55 mm - f/3.5-5.6 G Nikon AF-S DX VR II']\n",
      "['2.7\" LCD display', '5 x zoom lens - 6.2 - 31 mm - f/3.0-5.6']\n",
      "['2.7\" LCD display', 'Lens']\n",
      "['3\" LCD display', '5 x zoom lens - 4.6 - 23 mm - f/3.2-6.5']\n",
      "['5 x zoom lens - 4.5 - 22.5 mm - f/2.5-6.3', '2.7\" LCD display']\n",
      "['3\" LCD display', '14 x zoom lens - 4.5 - 63 mm - f/3.3-5.9']\n",
      "['3\" LCD display', '5 x zoom lens - 5 - 25 mm - f/3.9-4.8']\n",
      "['3\" OLED display', '30 x zoom lens - 4.5 - 135 mm - f/3.7-6.4']\n",
      "['2.7\" LCD display', '5 x zoom lens - 4.6 - 23 mm - f/3.2-6.5']\n",
      "['3.3\" OLED display', 'Carl Zeiss 5 x zoom lens - 4.7 - 23.5 mm - f/3.5-4.8']\n",
      "['3\" LCD display', '18 x zoom lens - 4.5 - 81 mm - f/3.8-6.9']\n",
      "['Lens', '2.7\" LCD display']\n",
      "['2.7\" LCD display', 'Fujinon 5 x zoom lens - 4.6 - 23 mm - f/3.5-6.3']\n",
      "['4.3 x zoom lens - 24 - 105 mm - f/4.0 L IS USM Canon EF', '3\" LCD display']\n",
      "['12 x zoom lens - 4 - 48 mm - f/3.4-5.6', '3.2\" LCD display']\n",
      "['52 x zoom lens - 4.3 - 223.6 mm - f/2.8-5.6', '3\" LCD display']\n",
      "['Lens - 18.5 mm - f/2.8', '3\" LCD display']\n",
      "['8 x zoom lens - 5 - 40 mm - f/3.2-6.9', '2.7\" LCD display']\n",
      "['3\" LCD display', '8 x zoom lens - 4.5 - 36 mm - f/3.7-6.6']\n",
      "['3 x zoom lens - 10 - 30 mm - f/3.5-5.6', '3\" LCD display']\n",
      "['3 x zoom lens - 4.1 - 12.3 mm - f/3.3-5.9', '2.5\" LCD display']\n",
      "['5 x zoom lens - 4.5 - 22.5 mm - f/2.5-6.3', '2.7\" LCD display']\n",
      "['3\" LCD display', '3 x zoom lens - 18 - 55 mm - f/3.5-5.6 IS STM Canon EF-S']\n",
      "['2.8\" LCD display', '50 x zoom lens - 4.3 - 215 mm - f/3.4-6.5']\n",
      "['3\" LCD display', 'Lens']\n",
      "['15 x zoom lens - 4.9 - 73.5 mm - f/3.0-5.2', '2.7\" LCD display']\n",
      "['2.7\" LCD display', '5 x zoom lens - 6.2 - 31 mm - f/3.0-5.6']\n",
      "['Fujinon 5 x zoom lens - 4.6 - 23 mm - f/3.5-6.3', '2.7\" LCD display']\n",
      "['16 x zoom lens - 5 - 80 mm - f/3.5-5.9', '3\" LCD display']\n",
      "['3\" LCD display', '3 x zoom lens - 18 - 55 mm - f/3.5-5.6 G ED II Nikon AF-S DX']\n",
      "['3\" LCD display', '34 x zoom lens - 4 - 136 mm - f/3.0-5.9']\n",
      "['3\" LCD display', '3 x zoom lens - 18 - 55 mm - f/3.5-5.6 G Nikon AF-S DX VR']\n",
      "['3\" LCD display', '5 x zoom lens - 4.5 - 22.5 mm - f/2.5-6.3']\n",
      "['2.7\" LCD display', '5 x zoom lens - 4.6 - 23 mm - f/3.2-6.5']\n",
      "['2.7\" LCD display', '25 x zoom lens - 4.3 - 107.5 mm - f/3.7-6.2']\n",
      "['3\" LCD display', 'Carl Zeiss 50 x zoom lens - 4.3 - 215 mm - f/2.8-6.3']\n",
      "['Carl Zeiss 3.6 x zoom lens - 10.4 - 37.1 mm - f/1.8-4.9', '3\" LCD display']\n",
      "['3 x zoom lens - 18 - 55 mm - f/3.5-5.6 G Nikon AF-S DX VR', '3\" LCD display']\n",
      "['25 x zoom lens - 4.3 - 107.5 mm - f/3.7-6.2', '2.7\" LCD display']\n",
      "['3\" LCD display', '5 x zoom lens - 5.2 - 26 mm - f/1.8-5.7']\n",
      "['2.7\" LCD display', 'Lens']\n",
      "['3\" LCD display', '12 x zoom lens - 4.5 - 54 mm - f/3.3-6.3']\n",
      "['2.5\" LCD display', 'Lens - 5.7 mm - f/3.2']\n",
      "['4 x zoom lens - 4.9 - 19.6 mm - f/3.0-6.6', '2.7\" LCD display']\n",
      "['3\" LCD display', '60 x zoom lens - 4.3 - 258 mm - f/3.3-6.5']\n",
      "['3 x zoom lens - 18 - 55 mm - f/3.5-5.6 IS STM Canon EF-S', '3\" LCD display']\n",
      "['3\" LCD display', '7.1 x zoom lens - 6 - 42.8 mm - f/2.0-4.0']\n",
      "['7.8 x zoom lens - 18 - 140 mm - f/3.5-5.6 G Nikon AF-S DX ED VR', '3.2\" LCD display']\n",
      "['3 x zoom lens - 18 - 55 mm - f/3.5-5.6 G ED II Nikon AF-S DX', '3\" LCD display']\n",
      "['12 x zoom lens - 4.5 - 54 mm - f/3.3-6.3', '3\" LCD display']\n",
      "['3 x zoom lens - 18 - 55 mm - f/3.5-5.6', '3\" LCD display']\n",
      "['4.8\" LCD display', '21 x zoom lens - 4.1 - 86.1 mm - f/2.8-5.9']\n",
      "['2.7\" LCD display', 'Lens']\n",
      "['Image Stabilization', 'Standard\\nCamera Technology', 'High Quality', 'Portrait']\n",
      "['Fisheye\\nCamera Technology', 'Fisheye\\nCamera Technology']\n",
      "['Film\\nImage Stabilization\\nCamera Technology', 'Image Stabilization\\nCamera Technology', 'Image Stabilization\\nCamera Technology', 'Telephoto', 'Telephoto', 'Telephoto']\n",
      "['Vari angle 7.7cm (3.0\") 3:2 Clear View II TFT, approx. 1040K dots', 'TTL-CT-SIR with a CMOS sensor', 'Electronically-controlled focal-plane shutter', 'Electronic viewfinder with image sensor', '22.5mm x 15.0mm CMOS', 'Pentaprism']\n",
      "['TTL-CT-SIR with a CMOS sensor', '22.5mm x 15.0mm CMOS', 'Electronic viewfinder with image sensor', 'Electronically-controlled focal-plane shutter', 'Pentaprism', 'Vari angle 7.7cm (3.0\") 3:2 Clear View II TFT, approx. 1040K dots']\n",
      "['AMOLED with Touch (C-type Touch Control Enabled) and Tilt (Up 90, Down 45)', 'External Flash only (Bundle with SEF8A)', 'Single image, Thumbnails (3 / 15 / 40 images), Slide show, Movie', 'Phase Detection & Contrast AF']\n",
      "['Pentaprism', 'Electronically-controlled focal-plane shutter', 'Vari angle 7.7cm (3.0\") 3:2 Clear View II TFT, approx. 1040K dots', 'Electronic viewfinder with image sensor', '22.5mm x 15.0mm CMOS', 'TTL-CT-SIR with a CMOS sensor']\n",
      "['Phase Detection & Contrast AF', 'AMOLED with Touch (C-type Touch Control Enabled) and Tilt (Up 90, Down 45)', 'Single image, Thumbnails (3 / 15 / 40 images), Slide show, Movie', 'External Flash only (Bundle with SEF8A)']\n",
      "['Electronically-controlled focal-plane shutter', 'Vari angle 7.7cm (3.0\") 3:2 Clear View II TFT, approx. 1040K dots', 'Pentaprism', '22.5mm x 15.0mm CMOS', 'Electronic viewfinder with image sensor', 'TTL-CT-SIR with a CMOS sensor']\n",
      "['Single image, Thumbnails (3 / 15 / 40 images), Slide show, Movie', 'Phase Detection & Contrast AF', 'Electronically controlled vertical-run focal plane shutter', 'AMOLED with Touch (C-type Touch Control Enabled) and Tilt (Up 90, Down 45)', 'External Flash only (Bundle with SEF8A)']\n",
      "['AMOLED with Touch (C-type Touch Control Enabled) and Tilt (Up 90, Down 45)', 'External Flash only (Bundle with SEF8A)', 'Phase Detection & Contrast AF', 'Single image, Thumbnails (3 / 15 / 40 images), Slide show, Movie']\n",
      "['Electronically-controlled vertical-travel focal-plane shutter', 'Single-lens reflex digital camera']\n",
      "['DIGIC 6 with iSAPS technology', 'TTL', 'sRGB', 'SD, SDHC, SDXC (UHS Speed Class 1 compatible)', '1.5 type (18.7 mm x 14.0 mm) Canon high-sensitivity CMOS', 'TTL']\n",
      "['Single-lens reflex digital camera', 'Electronically-controlled vertical-travel focal-plane shutter']\n",
      "['CompactFlash Type I (UDMA compatible), SD card, SDHC card or SDXC card. High-speed writing with UHS-I type SD cards is supported', 'Dual \"DIGIC 6\"', '22.4 x 15.0 mm CMOS', 'Electronically-controlled focal-plane shutter', 'TTL-CT-SIR with a dedicated CMOS sensor', '7.7cm (3.0\") Clear View II TFT, approx. 1040K dots', 'Pentaprism', 'Auto white balance with the imaging sensor', 'Electronic viewfinder with image sensor']\n",
      "['sRGB', 'TTL', 'SD, SDHC, SDXC', 'TTL', 'DIGIC 4+ with iSAPS technology', '1/2.3 type CCD']\n",
      "['Contrast AF system', 'Live MOS Sensor', 'LCD Live View Finder (2,764,800 dots equivalent)', 'Digital Single Lens Mirrorless camera', 'Tilt Static LCD with Touch Monitor', 'TTL Built-in Flash, GN7.0 equivalent (ISO 200 ・m), GN5.0 equivalent (ISO 100 ・m）, Built-in Pop-up', 'Focal-plane shutter']\n",
      "['Tilt Static LCD with Touch Monitor', 'TTL Built-in Flash, GN7.0 equivalent (ISO 200 ・m), GN5.0 equivalent (ISO 100 ・m）, Built-in Pop-up', 'Live MOS Sensor', 'Focal-plane shutter', 'Contrast AF system', 'LCD Live View Finder (2,764,800 dots equivalent)', 'Digital Single Lens Mirrorless camera']\n",
      "['Single-lens reflex digital camera', 'Electronically-controlled vertical-travel focal-plane shutter']\n",
      "['Digital Single Lens Mirrorless camera', 'TTL Built-in Flash, GN7.0 equivalent (ISO 200 ・m), GN5.0 equivalent (ISO 100 ・m）, Built-in Pop-up', 'Focal-plane shutter', 'Tilt Static LCD with Touch Monitor', 'Contrast AF system', 'Live MOS Sensor', 'LCD Live View Finder (2,764,800 dots equivalent)']\n",
      "['Electronically-controlled vertical-travel focal-plane shutter', 'Single-lens reflex digital camera']\n",
      "['Focal-plane shutter', 'Live MOS Sensor', 'Digital Single Lens Mirrorless camera', 'TFT LCD with Touch panel, Tiltable monitor', 'Contrast AF system', 'TTL Built-in-Flash, GN6.3 equivalent (ISO 160 ・m), GN5.0 equivalent (ISO 100 ・m）, Built-in Pop-up']\n",
      "['Electronically-controlled vertical-travel focal-plane shutter', 'Single-lens reflex digital camera']\n",
      "['LCD Live View Finder (2,764,800 dots equivalent)', 'Digital Single Lens Mirrorless camera', 'Focal-plane shutter', 'Contrast AF system', 'Live MOS Sensor', 'TTL Built-in Flash, GN7.0 equivalent (ISO 200 ・m), GN5.0 equivalent (ISO 100 ・m）, Built-in Pop-up', 'Tilt Static LCD with Touch Monitor']\n",
      "['TTL', '1/2.3 type back-illuminated CMOS', 'sRGB', 'TTL', 'DIGIC 6 with iSAPS technology', 'SD, SDHC, SDXC']\n",
      "['Electronically-controlled vertical-travel focal-plane shutter', 'Single-lens reflex digital camera']\n",
      "['1/2.3 type CCD', 'SD, SDHC, SDXC', 'TTL', 'DIGIC 4+ with iSAPS technology', 'sRGB', 'TTL']\n",
      "['Electronically-controlled vertical-travel focal-plane mechanical shutter; electronic front-curtain shutter available in mirror up release mode', 'Single-lens reflex digital camera']\n",
      "['SD, SDHC, SDXC', 'TTL', 'DIGIC 4+ with iSAPS technology', '1/2.3 type CCD', 'sRGB', 'TTL']\n",
      "['Tilt Static LCD with Touch Monitor', 'Live MOS Sensor', 'Digital Single Lens Mirrorless camera', 'LCD Live View Finder (2,764,800 dots equivalent)', 'Contrast AF system', 'Focal-plane shutter', 'TTL Built-in Flash, GN7.0 equivalent (ISO 200 ・m), GN5.0 equivalent (ISO 100 ・m）, Built-in Pop-up']\n",
      "['SD card, SDHC card or SDXC card', 'Electronic viewfinder with image sensor', 'Auto white balance with the imaging sensor', 'Electronically-controlled focal-plane shutter, with electronic first curtain', '7.5cm (3.0\") TFT, approx. 460k dots', 'DIGIC 4', 'Pentamirror', 'Approx. 22.3 mm x 14.9 mm', 'TTL-CT-SIR with a CMOS sensor']\n",
      "['SD, SDHC, SDXC', 'sRGB', 'TTL', 'TTL', 'DIGIC 4+ with iSAPS technology', '1/2.3 type CCD']\n",
      "['sRGB', 'TTL', '1/2.3 type back-illuminated CMOS', 'TTL', 'DIGIC 6 with iSAPS technology', 'SD, SDHC, SDXC (UHS Speed Class 1 compatible)']\n",
      "['1.0 cm (0.39 type) OLED Electronic viewfinder (color)', 'Electronically-controlled, vertical-traverse, focal-plane type', 'Built-in flash', 'Fast Hybrid AF(phase-detection AF/contrast-detection AF)', 'APS-C type (23.5 x 15.6mm) \"Exmor\" APS HD CMOS sensor']\n",
      "['Auto white balance with the imaging sensor', 'TTL-CT-SIR with a dedicated CMOS sensor', 'CompactFlash Type I (UDMA compatible), SD card, SDHC card or SDXC card. High-speed writing with UHS-I type SD cards is supported', 'Dual \"DIGIC 6\"', 'Pentaprism', 'Electronically-controlled focal-plane shutter', '22.4 x 15.0 mm CMOS', 'Electronic viewfinder with image sensor', '7.7cm (3.0\") Clear View II TFT, approx. 1040K dots']\n",
      "['Electronically-controlled focal-plane shutter', '7.7cm (3.0\") Clear View II TFT, approx. 1040K dots', 'Pentaprism', 'Electronic viewfinder with image sensor', 'Auto white balance with the imaging sensor', 'CompactFlash Type I (UDMA compatible), SD card, SDHC card or SDXC card. High-speed writing with UHS-I type SD cards is supported', 'TTL-CT-SIR with a dedicated CMOS sensor', 'Dual \"DIGIC 6\"', '22.4 x 15.0 mm CMOS']\n",
      "['TTL', '1/2.3 type back-illuminated CMOS', 'DIGIC 6 with iSAPS technology', 'sRGB', 'TTL', 'SD, SDHC, SDXC']\n",
      "['Contrast AF system', 'Digital Single Lens Mirrorless camera', 'OLED Live View Finder (1,440,000 dots)', 'Live MOS Sensor', 'Focal-plane shutter', 'TFT LCD with Touch monitor', 'TTL Built-in-Flash, GN10.5 equivalent (ISO 160 ・m), GN8.3 equivalent (ISO 100 ・m）, Built-in Pop-up']\n",
      "['sRGB', 'SD, SDHC, SDXC', 'TTL', 'DIGIC 4 with iSAPS technology', '1/2.3 type back-illuminated CMOS', 'TTL']\n",
      "['Single-lens reflex digital camera', 'Electronically-controlled vertical-travel focal-plane shutter']\n",
      "['TTL', '1/2.3 type back-illuminated CMOS', 'DIGIC 4+ with iSAPS technology', 'sRGB', 'SD, SDHC, SDXC', 'TTL']\n",
      "['Electronically-controlled vertical-travel focal-plane shutter', 'Single-lens reflex digital camera']\n",
      "['3.0’’ wide-TFT color LCD, Wide viewing 170°, AR Coating (LCD Cover only), with protection acrylic cover LCD frame rate: approx. 60', 'Integrated auto flash control', '1/2.3\" CMOS', 'TTL contrast detection auto focus system']\n",
      "['SD, SDHC, SDXC', 'DIGIC 4+ with iSAPS technology', '1/2.3 type CCD', 'TTL', 'sRGB', 'TTL']\n",
      "['sRGB', 'TTL', 'DIGIC 6 with iSAPS technology', 'SD, SDHC, SDXC (UHS Speed Class 1 compatible)', '1/1.7 type back-illuminated CMOS', 'TTL']\n",
      "['SD, SDHC, SDXC (UHS Speed Class 1 compatible)', 'DIGIC 6 with iSAPS technology', '1.0 type back-illuminated CMOS', 'TTL', 'TTL', 'sRGB']\n",
      "['7.5cm (3.0\") TFT, approx. 460k dots', 'Pentamirror', 'Auto white balance with the imaging sensor', 'Electronically-controlled focal-plane shutter, with electronic first curtain', 'SD card, SDHC card or SDXC card', 'DIGIC 4', 'Approx. 22.3 mm x 14.9 mm', 'TTL-CT-SIR with a CMOS sensor', 'Electronic viewfinder with image sensor']\n",
      "['Focal-plane shutter', 'OLED Live View Finder (1,440,000 dots)', 'Live MOS Sensor', 'Contrast AF system', 'TTL Built-in-Flash, GN10.5 equivalent (ISO 160 ・m), GN8.3 equivalent (ISO 100 ・m）, Built-in Pop-up', 'TFT LCD with Touch monitor', 'Digital Single Lens Mirrorless camera']\n",
      "['SD, SDHC, SDXC', 'TTL', 'DIGIC 4+ with iSAPS technology', '1/2.3 type CCD', 'TTL', 'sRGB']\n",
      "['SD, SDHC, SDXC (UHS Speed Class 1 compatible)', 'TTL', 'DIGIC 6 with iSAPS technology', 'sRGB', '1/1.7 type back-illuminated CMOS', 'TTL']\n",
      "['TTL', 'DIGIC 4+ with iSAPS technology', '1/2.3 type CCD', 'sRGB', 'SD, SDHC, SDXC', 'TTL']\n",
      "['TFT LCD with Touch panel, Tiltable monitor', 'TTL Built-in-Flash, GN6.3 equivalent (ISO 160 ・m), GN5.0 equivalent (ISO 100 ・m）, Built-in Pop-up', 'Digital Single Lens Mirrorless camera', 'Focal-plane shutter', 'Contrast AF system', 'Live MOS Sensor']\n",
      "['TTL', 'sRGB', 'DIGIC 4+ with iSAPS technology', '1/2.3 type CCD', 'TTL', 'SD, SDHC, SDXC']\n",
      "['Electronically-controlled vertical-travel focal-plane shutter', 'Single-lens reflex digital camera']\n",
      "['Electronically-controlled vertical-travel focal-plane shutter', 'Single-lens reflex digital camera']\n",
      "['Digital Single Lens Mirrorless camera', 'Live MOS Sensor', 'Contrast AF system', 'OLED Live View Finder (1,440,000 dots)', 'TFT LCD with Touch monitor', 'TTL Built-in-Flash, GN10.5 equivalent (ISO 160 ・m), GN8.3 equivalent (ISO 100 ・m）, Built-in Pop-up', 'Focal-plane shutter']\n",
      "['SD, SDHC, SDXC', 'DIGIC 4+ with iSAPS technology', '1/2.3 type CCD', 'sRGB', 'TTL', 'TTL']\n",
      "['3.0’’ wide-TFT color LCD, Wide viewing 170°, AR Coating (LCD Cover only), with protection acrylic cover LCD frame rate: approx. 60', 'Integrated auto flash control', 'TTL contrast detection auto focus system', '1/2.3\" CMOS']\n",
      "['1.5 type (18.7 mm x 14.0 mm) Canon high-sensitivity CMOS', 'TTL']\n",
      "['1/2.3 type back-illuminated CMOS', 'TTL', 'TTL']\n",
      "['Hybrid AF (TTL and external systems)', 'Mechanical shutter & electronic shutter']\n",
      "['TTL', 'TTL']\n",
      "['TTL', 'Mechanical shutter & Electronic shutter']\n",
      "['18.7 mm x 14.0 mm Canon high-sensitivity CMOS', 'TTL', 'TTL']\n",
      "['TTL', 'Mechanical shutter & electronic shutter']\n",
      "['TTL', 'TTL']\n",
      "['TTL', 'TTL']\n",
      "['TTL', 'TTL']\n",
      "['TTL', 'TTL']\n",
      "['1/2.3 type back-illuminated CMOS', 'TTL']\n",
      "['TTL', 'Mechanical shutter & electronic shutter']\n"
     ]
    }
   ],
   "source": [
    "for ctype in specs[specs['type'].notna()]['type'].tolist():\n",
    "\n",
    "    if not isinstance(ctype, str):\n",
    "        print(ctype)"
   ]
  },
  {
   "cell_type": "code",
   "execution_count": 61,
   "id": "latin-circulation",
   "metadata": {},
   "outputs": [],
   "source": [
    "def get_type(value: str) -> str:\n",
    "    \n",
    "    if isinstance(value, str):\n",
    "        \n",
    "        return value\n",
    "    \n",
    "    try:\n",
    "        types = sorted(value, key=len, reverse=True)\n",
    "        \n",
    "        return types[0]\n",
    "    \n",
    "    except (KeyError, TypeError):\n",
    "        return None"
   ]
  },
  {
   "cell_type": "code",
   "execution_count": 62,
   "id": "based-garage",
   "metadata": {},
   "outputs": [],
   "source": [
    "specs['type'] = specs['type'].map(get_type)"
   ]
  },
  {
   "cell_type": "code",
   "execution_count": 63,
   "id": "altered-possibility",
   "metadata": {},
   "outputs": [
    {
     "data": {
      "text/plain": [
       "Point & Shoot                                                    6638\n",
       "Digital SLR                                                      4193\n",
       "Mirrorless Interchangeable Lens                                   791\n",
       "Bridge Camera                                                     357\n",
       "Underwater                                                        168\n",
       "Compact                                                           161\n",
       "Mini Digital Camera                                               127\n",
       "TTL                                                               105\n",
       "DSLR                                                               62\n",
       "Digital Camera                                                     56\n",
       "Camcorder                                                          49\n",
       "Rangefinder                                                        39\n",
       "Digital                                                            36\n",
       "Children's                                                         34\n",
       "Medium Format                                                      29\n",
       "Compact digital camera                                             24\n",
       "Spy, Miniature                                                     18\n",
       "Light Field Camera                                                 18\n",
       "Mirrorless                                                         17\n",
       "UV                                                                 16\n",
       "Sports & Action                                                    16\n",
       "Advance Point and shoot                                            15\n",
       "Advanced Point & Shoot                                             15\n",
       "Pocket                                                             14\n",
       "Single-lens reflex digital camera                                  12\n",
       "SLR                                                                12\n",
       "Micro Four Thirds / Prosumer                                       12\n",
       "3D                                                                 12\n",
       "Electronically-controlled vertical-travel focal-plane shutter      10\n",
       "DIGITAL                                                             9\n",
       "DIGIC 4+ with iSAPS technology                                      9\n",
       "Circular polarizer                                                  9\n",
       "Mirrorlesss digital camera                                          8\n",
       "digital                                                             8\n",
       "Circular Polarizing HD Filter                                       8\n",
       "Single Lens Kit                                                     7\n",
       "Backpack                                                            6\n",
       "1/2.3 type back-illuminated CMOS                                    6\n",
       "Mechanical shutter & electronic shutter                             6\n",
       "Compact Digital Camera                                              6\n",
       "Name: type, dtype: int64"
      ]
     },
     "execution_count": 63,
     "metadata": {},
     "output_type": "execute_result"
    }
   ],
   "source": [
    "specs['type'].value_counts()[0:40]"
   ]
  }
 ],
 "metadata": {
  "kernelspec": {
   "display_name": "Python 3",
   "language": "python",
   "name": "python3"
  },
  "language_info": {
   "codemirror_mode": {
    "name": "ipython",
    "version": 3
   },
   "file_extension": ".py",
   "mimetype": "text/x-python",
   "name": "python",
   "nbconvert_exporter": "python",
   "pygments_lexer": "ipython3",
   "version": "3.7.9"
  }
 },
 "nbformat": 4,
 "nbformat_minor": 5
}
